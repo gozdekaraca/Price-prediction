{
 "cells": [
  {
   "cell_type": "code",
   "execution_count": 51,
   "id": "6b719404",
   "metadata": {},
   "outputs": [],
   "source": [
    "import pandas as pd\n",
    "import numpy as np\n",
    "import joblib"
   ]
  },
  {
   "cell_type": "code",
   "execution_count": 52,
   "id": "33cbcb90",
   "metadata": {},
   "outputs": [],
   "source": [
    "r2_dt_model = joblib.load(\"C:\\\\Users\\\\Gözde\\\\r2_dt.pkl\")\n",
    "r2_linear_model = joblib.load(\"C:\\\\Users\\\\Gözde\\\\r2_linear.pkl\")\n",
    "r2_ridge_model = joblib.load(\"C:\\\\Users\\\\Gözde\\\\r2_ridge.pkl\")\n",
    "r2_lasso_model = joblib.load(\"C:\\\\Users\\\\Gözde\\\\r2_lasso.pkl\")\n",
    "rf_r2_model = joblib.load(\"C:\\\\Users\\\\Gözde\\\\rf_r2.pkl\")\n",
    "svr_r2_model = joblib.load(\"C:\\\\Users\\\\Gözde\\\\svr_r2.pkl\")\n",
    "gb_r2_model = joblib.load(\"C:\\\\Users\\\\Gözde\\\\gb_r2.pkl\")\n"
   ]
  },
  {
   "cell_type": "code",
   "execution_count": 53,
   "id": "419fe4b1",
   "metadata": {},
   "outputs": [],
   "source": [
    "ekran_boyutu = pd.read_excel(\"C:\\\\Users\\\\Gözde\\\\Desktop\\\\data\\\\Ekran_Boyutu.xlsx\")"
   ]
  },
  {
   "cell_type": "code",
   "execution_count": 54,
   "id": "bda4c58f",
   "metadata": {},
   "outputs": [
    {
     "data": {
      "text/html": [
       "<div>\n",
       "<style scoped>\n",
       "    .dataframe tbody tr th:only-of-type {\n",
       "        vertical-align: middle;\n",
       "    }\n",
       "\n",
       "    .dataframe tbody tr th {\n",
       "        vertical-align: top;\n",
       "    }\n",
       "\n",
       "    .dataframe thead th {\n",
       "        text-align: right;\n",
       "    }\n",
       "</style>\n",
       "<table border=\"1\" class=\"dataframe\">\n",
       "  <thead>\n",
       "    <tr style=\"text-align: right;\">\n",
       "      <th></th>\n",
       "      <th>Ekran_Boyutu</th>\n",
       "    </tr>\n",
       "  </thead>\n",
       "  <tbody>\n",
       "    <tr>\n",
       "      <th>0</th>\n",
       "      <td>buyuk ekran</td>\n",
       "    </tr>\n",
       "    <tr>\n",
       "      <th>1</th>\n",
       "      <td>kucuk ekran</td>\n",
       "    </tr>\n",
       "    <tr>\n",
       "      <th>2</th>\n",
       "      <td>orta ekran</td>\n",
       "    </tr>\n",
       "  </tbody>\n",
       "</table>\n",
       "</div>"
      ],
      "text/plain": [
       "  Ekran_Boyutu\n",
       "0  buyuk ekran\n",
       "1  kucuk ekran\n",
       "2   orta ekran"
      ]
     },
     "execution_count": 54,
     "metadata": {},
     "output_type": "execute_result"
    }
   ],
   "source": [
    "ekran_boyutu"
   ]
  },
  {
   "cell_type": "code",
   "execution_count": 55,
   "id": "e433ee32",
   "metadata": {},
   "outputs": [],
   "source": [
    "cozunurluk = pd.read_excel(\"C:\\\\Users\\\\Gözde\\\\Desktop\\\\data\\\\Cozunurluk.xlsx\")"
   ]
  },
  {
   "cell_type": "code",
   "execution_count": 56,
   "id": "722fe65f",
   "metadata": {
    "scrolled": true
   },
   "outputs": [
    {
     "data": {
      "text/html": [
       "<div>\n",
       "<style scoped>\n",
       "    .dataframe tbody tr th:only-of-type {\n",
       "        vertical-align: middle;\n",
       "    }\n",
       "\n",
       "    .dataframe tbody tr th {\n",
       "        vertical-align: top;\n",
       "    }\n",
       "\n",
       "    .dataframe thead th {\n",
       "        text-align: right;\n",
       "    }\n",
       "</style>\n",
       "<table border=\"1\" class=\"dataframe\">\n",
       "  <thead>\n",
       "    <tr style=\"text-align: right;\">\n",
       "      <th></th>\n",
       "      <th>Cozunurluk</th>\n",
       "    </tr>\n",
       "  </thead>\n",
       "  <tbody>\n",
       "    <tr>\n",
       "      <th>0</th>\n",
       "      <td>1280 x 800</td>\n",
       "    </tr>\n",
       "    <tr>\n",
       "      <th>1</th>\n",
       "      <td>1366 x 768</td>\n",
       "    </tr>\n",
       "    <tr>\n",
       "      <th>2</th>\n",
       "      <td>1440 x 900</td>\n",
       "    </tr>\n",
       "    <tr>\n",
       "      <th>3</th>\n",
       "      <td>1600 x 900</td>\n",
       "    </tr>\n",
       "    <tr>\n",
       "      <th>4</th>\n",
       "      <td>1920 x 1080</td>\n",
       "    </tr>\n",
       "    <tr>\n",
       "      <th>5</th>\n",
       "      <td>1920 x 1200</td>\n",
       "    </tr>\n",
       "    <tr>\n",
       "      <th>6</th>\n",
       "      <td>1920 x 1280</td>\n",
       "    </tr>\n",
       "    <tr>\n",
       "      <th>7</th>\n",
       "      <td>2160 x 1440</td>\n",
       "    </tr>\n",
       "    <tr>\n",
       "      <th>8</th>\n",
       "      <td>2240 x 1400</td>\n",
       "    </tr>\n",
       "    <tr>\n",
       "      <th>9</th>\n",
       "      <td>2256 x 1504</td>\n",
       "    </tr>\n",
       "    <tr>\n",
       "      <th>10</th>\n",
       "      <td>2550 x 1600</td>\n",
       "    </tr>\n",
       "    <tr>\n",
       "      <th>11</th>\n",
       "      <td>2560 x 1440</td>\n",
       "    </tr>\n",
       "    <tr>\n",
       "      <th>12</th>\n",
       "      <td>2560 x 1600</td>\n",
       "    </tr>\n",
       "    <tr>\n",
       "      <th>13</th>\n",
       "      <td>2560 x 1664</td>\n",
       "    </tr>\n",
       "    <tr>\n",
       "      <th>14</th>\n",
       "      <td>2880 x 1620</td>\n",
       "    </tr>\n",
       "    <tr>\n",
       "      <th>15</th>\n",
       "      <td>2880 x 1800</td>\n",
       "    </tr>\n",
       "    <tr>\n",
       "      <th>16</th>\n",
       "      <td>3024 x 1964</td>\n",
       "    </tr>\n",
       "    <tr>\n",
       "      <th>17</th>\n",
       "      <td>3072 x 1920</td>\n",
       "    </tr>\n",
       "    <tr>\n",
       "      <th>18</th>\n",
       "      <td>3840 x 2160</td>\n",
       "    </tr>\n",
       "    <tr>\n",
       "      <th>19</th>\n",
       "      <td>3840 x 2400</td>\n",
       "    </tr>\n",
       "    <tr>\n",
       "      <th>20</th>\n",
       "      <td>4096 x 2160</td>\n",
       "    </tr>\n",
       "    <tr>\n",
       "      <th>21</th>\n",
       "      <td>4480 x 2520</td>\n",
       "    </tr>\n",
       "    <tr>\n",
       "      <th>22</th>\n",
       "      <td>5120 x 2880</td>\n",
       "    </tr>\n",
       "  </tbody>\n",
       "</table>\n",
       "</div>"
      ],
      "text/plain": [
       "     Cozunurluk\n",
       "0    1280 x 800\n",
       "1    1366 x 768\n",
       "2    1440 x 900\n",
       "3    1600 x 900\n",
       "4   1920 x 1080\n",
       "5   1920 x 1200\n",
       "6   1920 x 1280\n",
       "7   2160 x 1440\n",
       "8   2240 x 1400\n",
       "9   2256 x 1504\n",
       "10  2550 x 1600\n",
       "11  2560 x 1440\n",
       "12  2560 x 1600\n",
       "13  2560 x 1664\n",
       "14  2880 x 1620\n",
       "15  2880 x 1800\n",
       "16  3024 x 1964\n",
       "17  3072 x 1920\n",
       "18  3840 x 2160\n",
       "19  3840 x 2400\n",
       "20  4096 x 2160\n",
       "21  4480 x 2520\n",
       "22  5120 x 2880"
      ]
     },
     "execution_count": 56,
     "metadata": {},
     "output_type": "execute_result"
    }
   ],
   "source": [
    "cozunurluk"
   ]
  },
  {
   "cell_type": "code",
   "execution_count": 57,
   "id": "946214bf",
   "metadata": {},
   "outputs": [],
   "source": [
    "isletim_sistemi = pd.read_excel(\"C:\\\\Users\\\\Gözde\\\\Desktop\\\\data\\\\Isletim_Sistemi.xlsx\")"
   ]
  },
  {
   "cell_type": "code",
   "execution_count": 58,
   "id": "2865614c",
   "metadata": {},
   "outputs": [
    {
     "data": {
      "text/html": [
       "<div>\n",
       "<style scoped>\n",
       "    .dataframe tbody tr th:only-of-type {\n",
       "        vertical-align: middle;\n",
       "    }\n",
       "\n",
       "    .dataframe tbody tr th {\n",
       "        vertical-align: top;\n",
       "    }\n",
       "\n",
       "    .dataframe thead th {\n",
       "        text-align: right;\n",
       "    }\n",
       "</style>\n",
       "<table border=\"1\" class=\"dataframe\">\n",
       "  <thead>\n",
       "    <tr style=\"text-align: right;\">\n",
       "      <th></th>\n",
       "      <th>Isletim_Sistemi</th>\n",
       "    </tr>\n",
       "  </thead>\n",
       "  <tbody>\n",
       "    <tr>\n",
       "      <th>0</th>\n",
       "      <td>Android</td>\n",
       "    </tr>\n",
       "    <tr>\n",
       "      <th>1</th>\n",
       "      <td>ChromeOS</td>\n",
       "    </tr>\n",
       "    <tr>\n",
       "      <th>2</th>\n",
       "      <td>FreeDos</td>\n",
       "    </tr>\n",
       "    <tr>\n",
       "      <th>3</th>\n",
       "      <td>Linux</td>\n",
       "    </tr>\n",
       "    <tr>\n",
       "      <th>4</th>\n",
       "      <td>MacOs</td>\n",
       "    </tr>\n",
       "    <tr>\n",
       "      <th>5</th>\n",
       "      <td>Ubuntu</td>\n",
       "    </tr>\n",
       "    <tr>\n",
       "      <th>6</th>\n",
       "      <td>Windows</td>\n",
       "    </tr>\n",
       "    <tr>\n",
       "      <th>7</th>\n",
       "      <td>Windows11</td>\n",
       "    </tr>\n",
       "  </tbody>\n",
       "</table>\n",
       "</div>"
      ],
      "text/plain": [
       "  Isletim_Sistemi\n",
       "0         Android\n",
       "1        ChromeOS\n",
       "2         FreeDos\n",
       "3           Linux\n",
       "4           MacOs\n",
       "5          Ubuntu\n",
       "6         Windows\n",
       "7       Windows11"
      ]
     },
     "execution_count": 58,
     "metadata": {},
     "output_type": "execute_result"
    }
   ],
   "source": [
    "isletim_sistemi"
   ]
  },
  {
   "cell_type": "code",
   "execution_count": 59,
   "id": "d9d8b045",
   "metadata": {},
   "outputs": [],
   "source": [
    "def ekran_boyutu_index(ekranlar):\n",
    "    index = int(ekran_boyutu[ekran_boyutu[\"Ekran_Boyutu\"]==ekranlar].index.values)\n",
    "    return index"
   ]
  },
  {
   "cell_type": "code",
   "execution_count": 60,
   "id": "0833f907",
   "metadata": {},
   "outputs": [],
   "source": [
    "def isletim_sistemi_index(isletimler):\n",
    "    index = int(isletim_sistemi[isletim_sistemi[\"Isletim_Sistemi\"]==isletimler].index.values)\n",
    "    return index"
   ]
  },
  {
   "cell_type": "code",
   "execution_count": 61,
   "id": "8a9e9908",
   "metadata": {},
   "outputs": [],
   "source": [
    "def cozunurluk_index(cozunurlukler):\n",
    "    index = int(cozunurluk[cozunurluk[\"Cozunurluk\"]==cozunurlukler].index.values)\n",
    "    return index"
   ]
  },
  {
   "cell_type": "code",
   "execution_count": 62,
   "id": "f3d85618",
   "metadata": {},
   "outputs": [],
   "source": [
    "def create_prediction_value(ekranlar, garanti_suresi, ram_sistem_bellegi, ssd_kapasitesi, isletimler, cozunurlukler):\n",
    "    res = pd.DataFrame(data={\n",
    "        'Ekran_Boyutu': [ekranlar],\n",
    "        'Garanti_Suresi': [garanti_suresi],\n",
    "        'Ram_(Sistem Bellegi)': [ram_sistem_bellegi],\n",
    "        'SSD_Kapasitesi': [ssd_kapasitesi],\n",
    "        'Isletim_Sistemi': [isletimler],\n",
    "        'Cozunurluk': [cozunurlukler]\n",
    "    })\n",
    "    return res\n"
   ]
  },
  {
   "cell_type": "code",
   "execution_count": 63,
   "id": "d68fff4b",
   "metadata": {},
   "outputs": [],
   "source": [
    "def predict_models(res):\n",
    "    print(\"Decision Tree Result : \"+ str(int(r2_dt_model.predict(res))).strip('[]') +\" TL\" )\n",
    "    print(\"Linear Result : \"+ str(int(r2_linear_model.predict(res))).strip('[]') +\" TL\" )\n",
    "    print(\"Ridge Result : \"+ str(int(r2_ridge_model.predict(res))).strip('[]') +\" TL\" )\n",
    "    print(\"Lasso Result : \"+ str(int(r2_lasso_model.predict(res))).strip('[]') +\" TL\" )\n",
    "    print(\"Random Forest Result : \"+ str(int(rf_r2_model.predict(res))).strip('[]') +\" TL\" )\n",
    "    print(\"SVR Result : \"+ str(int(svr_r2_model.predict(res))).strip('[]') +\" TL\" )\n",
    "    print(\"Gradient Boosting Result : \"+ str(int(gb_r2_model.predict(res))).strip('[]') +\" TL\" )\n"
   ]
  },
  {
   "cell_type": "code",
   "execution_count": 64,
   "id": "9d885d15",
   "metadata": {},
   "outputs": [
    {
     "name": "stdout",
     "output_type": "stream",
     "text": [
      "Decision Tree Result : 11893 TL\n",
      "Linear Result : 6269 TL\n",
      "Ridge Result : 6259 TL\n",
      "Lasso Result : 6267 TL\n",
      "Random Forest Result : 11870 TL\n",
      "SVR Result : 0 TL\n",
      "Gradient Boosting Result : 17927 TL\n"
     ]
    },
    {
     "name": "stderr",
     "output_type": "stream",
     "text": [
      "C:\\Users\\Gözde\\anaconda3\\Lib\\site-packages\\sklearn\\base.py:457: UserWarning: X has feature names, but DecisionTreeRegressor was fitted without feature names\n",
      "  warnings.warn(\n",
      "C:\\Users\\Gözde\\anaconda3\\Lib\\site-packages\\sklearn\\base.py:457: UserWarning: X has feature names, but LinearRegression was fitted without feature names\n",
      "  warnings.warn(\n",
      "C:\\Users\\Gözde\\anaconda3\\Lib\\site-packages\\sklearn\\base.py:457: UserWarning: X has feature names, but Ridge was fitted without feature names\n",
      "  warnings.warn(\n",
      "C:\\Users\\Gözde\\anaconda3\\Lib\\site-packages\\sklearn\\base.py:457: UserWarning: X has feature names, but Lasso was fitted without feature names\n",
      "  warnings.warn(\n",
      "C:\\Users\\Gözde\\anaconda3\\Lib\\site-packages\\sklearn\\base.py:457: UserWarning: X has feature names, but RandomForestRegressor was fitted without feature names\n",
      "  warnings.warn(\n",
      "C:\\Users\\Gözde\\anaconda3\\Lib\\site-packages\\sklearn\\base.py:457: UserWarning: X has feature names, but SVR was fitted without feature names\n",
      "  warnings.warn(\n",
      "C:\\Users\\Gözde\\anaconda3\\Lib\\site-packages\\sklearn\\base.py:457: UserWarning: X has feature names, but GradientBoostingRegressor was fitted without feature names\n",
      "  warnings.warn(\n"
     ]
    }
   ],
   "source": [
    "predict_value = create_prediction_value(\n",
    "    ekran_boyutu_index(\"orta ekran\"),\n",
    "    2, 8, 256,\n",
    "    isletim_sistemi_index(\"Windows\"),  \n",
    "    cozunurluk_index(\"1920 x 1080\")\n",
    ")\n",
    "\n",
    "predict_models(predict_value)\n",
    "\n"
   ]
  },
  {
   "cell_type": "code",
   "execution_count": null,
   "id": "53d5c6f7",
   "metadata": {},
   "outputs": [],
   "source": []
  },
  {
   "cell_type": "code",
   "execution_count": null,
   "id": "c58e9718",
   "metadata": {},
   "outputs": [],
   "source": []
  }
 ],
 "metadata": {
  "kernelspec": {
   "display_name": "Python 3 (ipykernel)",
   "language": "python",
   "name": "python3"
  },
  "language_info": {
   "codemirror_mode": {
    "name": "ipython",
    "version": 3
   },
   "file_extension": ".py",
   "mimetype": "text/x-python",
   "name": "python",
   "nbconvert_exporter": "python",
   "pygments_lexer": "ipython3",
   "version": "3.11.5"
  }
 },
 "nbformat": 4,
 "nbformat_minor": 5
}

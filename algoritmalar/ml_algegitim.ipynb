{
 "cells": [
  {
   "cell_type": "code",
   "execution_count": 41,
   "id": "a7feecfe",
   "metadata": {},
   "outputs": [],
   "source": [
    "import numpy as np\n",
    "import matplotlib.pyplot as plt\n",
    "import pandas as pd"
   ]
  },
  {
   "cell_type": "code",
   "execution_count": 42,
   "id": "47466f2c",
   "metadata": {},
   "outputs": [],
   "source": [
    "data = pd.read_excel(\"C:\\\\Users\\\\Gözde\\\\Desktop\\\\data\\\\ml_onisleme3.xlsx\")"
   ]
  },
  {
   "cell_type": "code",
   "execution_count": 43,
   "id": "37474907",
   "metadata": {},
   "outputs": [],
   "source": [
    "df = pd.DataFrame()"
   ]
  },
  {
   "cell_type": "code",
   "execution_count": 44,
   "id": "fbf67de2",
   "metadata": {},
   "outputs": [
    {
     "data": {
      "text/html": [
       "<div>\n",
       "<style scoped>\n",
       "    .dataframe tbody tr th:only-of-type {\n",
       "        vertical-align: middle;\n",
       "    }\n",
       "\n",
       "    .dataframe tbody tr th {\n",
       "        vertical-align: top;\n",
       "    }\n",
       "\n",
       "    .dataframe thead th {\n",
       "        text-align: right;\n",
       "    }\n",
       "</style>\n",
       "<table border=\"1\" class=\"dataframe\">\n",
       "  <thead>\n",
       "    <tr style=\"text-align: right;\">\n",
       "      <th></th>\n",
       "      <th>Ekran_Boyutu</th>\n",
       "      <th>Garanti_Suresi</th>\n",
       "      <th>Ram_(Sistem Bellegi)</th>\n",
       "      <th>SSD_Kapasitesi</th>\n",
       "      <th>Isletim_Sistemi</th>\n",
       "      <th>Cozunurluk</th>\n",
       "      <th>price</th>\n",
       "    </tr>\n",
       "  </thead>\n",
       "  <tbody>\n",
       "    <tr>\n",
       "      <th>0</th>\n",
       "      <td>2</td>\n",
       "      <td>2</td>\n",
       "      <td>8</td>\n",
       "      <td>256</td>\n",
       "      <td>2</td>\n",
       "      <td>4</td>\n",
       "      <td>10499</td>\n",
       "    </tr>\n",
       "    <tr>\n",
       "      <th>1</th>\n",
       "      <td>1</td>\n",
       "      <td>2</td>\n",
       "      <td>32</td>\n",
       "      <td>256</td>\n",
       "      <td>2</td>\n",
       "      <td>4</td>\n",
       "      <td>11999</td>\n",
       "    </tr>\n",
       "    <tr>\n",
       "      <th>2</th>\n",
       "      <td>1</td>\n",
       "      <td>2</td>\n",
       "      <td>8</td>\n",
       "      <td>512</td>\n",
       "      <td>6</td>\n",
       "      <td>4</td>\n",
       "      <td>14999</td>\n",
       "    </tr>\n",
       "    <tr>\n",
       "      <th>3</th>\n",
       "      <td>2</td>\n",
       "      <td>2</td>\n",
       "      <td>16</td>\n",
       "      <td>512</td>\n",
       "      <td>2</td>\n",
       "      <td>4</td>\n",
       "      <td>11999</td>\n",
       "    </tr>\n",
       "    <tr>\n",
       "      <th>4</th>\n",
       "      <td>1</td>\n",
       "      <td>2</td>\n",
       "      <td>16</td>\n",
       "      <td>256</td>\n",
       "      <td>2</td>\n",
       "      <td>4</td>\n",
       "      <td>6499</td>\n",
       "    </tr>\n",
       "  </tbody>\n",
       "</table>\n",
       "</div>"
      ],
      "text/plain": [
       "   Ekran_Boyutu  Garanti_Suresi  Ram_(Sistem Bellegi)  SSD_Kapasitesi  \\\n",
       "0             2               2                     8             256   \n",
       "1             1               2                    32             256   \n",
       "2             1               2                     8             512   \n",
       "3             2               2                    16             512   \n",
       "4             1               2                    16             256   \n",
       "\n",
       "   Isletim_Sistemi  Cozunurluk  price  \n",
       "0                2           4  10499  \n",
       "1                2           4  11999  \n",
       "2                6           4  14999  \n",
       "3                2           4  11999  \n",
       "4                2           4   6499  "
      ]
     },
     "execution_count": 44,
     "metadata": {},
     "output_type": "execute_result"
    }
   ],
   "source": [
    "data.head()"
   ]
  },
  {
   "cell_type": "code",
   "execution_count": 45,
   "id": "3cdb96be",
   "metadata": {},
   "outputs": [],
   "source": [
    "X = data.iloc[:, 0:6].values\n",
    "y = data.iloc[:, 6].values\n",
    "y = y.reshape(-1, 1) "
   ]
  },
  {
   "cell_type": "code",
   "execution_count": 48,
   "id": "7dac681f",
   "metadata": {},
   "outputs": [
    {
     "name": "stdout",
     "output_type": "stream",
     "text": [
      "Decision Tree Regressor R-squared: 0.1486084921459857\n"
     ]
    }
   ],
   "source": [
    "#veriyi eğitim ve test setlerine bölme\n",
    "from sklearn.model_selection import train_test_split\n",
    "#üstteki fonkiyon kullanılarak veriyi eğitim ve test setlerine böler \n",
    "from sklearn.tree import DecisionTreeRegressor\n",
    "from sklearn.metrics import r2_score\n",
    "\n",
    "decision_tree_model = DecisionTreeRegressor(random_state=0)\n",
    "decision_tree_model.fit(X_train, y_train)\n",
    "y_pred_decision_tree = decision_tree_model.predict(X_test)\n",
    "r2_dt = r2_score(y_test, y_pred_decision_tree)\n",
    "print(\"Decision Tree Regressor R-squared:\", r2_dt)\n",
    "X_train, X_test, y_train, y_test = train_test_split(X, y, test_size = 0.2, random_state = 0)"
   ]
  },
  {
   "cell_type": "code",
   "execution_count": 49,
   "id": "cd2b9674",
   "metadata": {},
   "outputs": [],
   "source": [
    "#decision_tree_model = DecisionTreeRegressor(random_state=0)\n",
    "#decision_tree_model.fit(X_train, y_train)\n",
    "#y_pred_decision_tree = decision_tree_model.predict(X_test)\n",
    "#r2_dt = r2_score(y_test, y_pred_decision_tree)\n",
    "#print(\"Decision Tree Regressor R-squared:\", r2_dt)"
   ]
  },
  {
   "cell_type": "code",
   "execution_count": 50,
   "id": "5fc062e0",
   "metadata": {},
   "outputs": [
    {
     "name": "stdout",
     "output_type": "stream",
     "text": [
      "Linear Regression R² Score: 0.033655176034131484\n"
     ]
    }
   ],
   "source": [
    "from sklearn.linear_model import LinearRegression\n",
    "\n",
    "regressor_linear = LinearRegression()\n",
    "regressor_linear.fit(X_train, y_train)\n",
    "y_pred_linear = regressor_linear.predict(X_test)\n",
    "r2_linear = r2_score(y_test, y_pred_linear)\n",
    "print(\"Linear Regression R² Score:\", r2_linear)\n"
   ]
  },
  {
   "cell_type": "code",
   "execution_count": 51,
   "id": "d5f2209c",
   "metadata": {},
   "outputs": [
    {
     "name": "stdout",
     "output_type": "stream",
     "text": [
      "Ridge Regression R² Score: 0.03354484142980374\n"
     ]
    }
   ],
   "source": [
    "from sklearn.linear_model import Ridge\n",
    "\n",
    "regressor_ridge = Ridge()\n",
    "regressor_ridge.fit(X_train, y_train)\n",
    "y_pred_ridge = regressor_ridge.predict(X_test)\n",
    "r2_ridge = r2_score(y_test, y_pred_ridge)\n",
    "print(\"Ridge Regression R² Score:\", r2_ridge)\n"
   ]
  },
  {
   "cell_type": "code",
   "execution_count": 52,
   "id": "5e801637",
   "metadata": {},
   "outputs": [
    {
     "name": "stdout",
     "output_type": "stream",
     "text": [
      "Lasso Regression R² Score: 0.03365494716583439\n"
     ]
    }
   ],
   "source": [
    "from sklearn.linear_model import Lasso\n",
    "\n",
    "regressor_lasso = Lasso()\n",
    "regressor_lasso.fit(X_train, y_train)\n",
    "y_pred_lasso = regressor_lasso.predict(X_test)\n",
    "r2_lasso = r2_score(y_test, y_pred_lasso)\n",
    "print(\"Lasso Regression R² Score:\", r2_lasso)\n"
   ]
  },
  {
   "cell_type": "code",
   "execution_count": 53,
   "id": "367dd58f",
   "metadata": {},
   "outputs": [
    {
     "name": "stdout",
     "output_type": "stream",
     "text": [
      "0.11626783819313691\n"
     ]
    }
   ],
   "source": [
    "from sklearn.ensemble import RandomForestRegressor\n",
    "\n",
    "from sklearn.metrics import r2_score\n",
    "\n",
    "rf_regressor = RandomForestRegressor(n_estimators = 100,random_state=0)\n",
    "\n",
    "rf_regressor.fit(X_train, y_train.ravel())\n",
    "\n",
    "y_pred_rf = rf_regressor.predict(X_test)\n",
    "\n",
    "rf_r2 = r2_score(y_test, y_pred_rf)\n",
    "print(rf_r2)\n"
   ]
  },
  {
   "cell_type": "code",
   "execution_count": 56,
   "id": "0aa1a055",
   "metadata": {},
   "outputs": [
    {
     "name": "stdout",
     "output_type": "stream",
     "text": [
      "-0.16945874664496863\n"
     ]
    }
   ],
   "source": [
    "from sklearn.svm import SVR\n",
    "from sklearn.preprocessing import StandardScaler\n",
    "\n",
    "scaler_X = StandardScaler()\n",
    "scaler_y = StandardScaler()\n",
    "\n",
    "X_train_scaled = scaler_X.fit_transform(X_train)\n",
    "y_train_scaled = scaler_y.fit_transform(y_train.reshape(-1, 1))\n",
    "\n",
    "X_test_scaled = scaler_X.transform(X_test)\n",
    "\n",
    "svr_regressor = SVR(kernel='linear')  # lineer kernel kullanılıyor, diğer kernel seçenekleri de mevcut\n",
    "\n",
    "svr_regressor.fit(X_train_scaled, y_train_scaled.ravel())\n",
    "\n",
    "y_pred_svr = svr_regressor.predict(X_test_scaled)\n",
    "\n",
    "svr_r2 = r2_score(y_test, y_pred_svr)\n",
    "print(svr_r2)\n"
   ]
  },
  {
   "cell_type": "code",
   "execution_count": 57,
   "id": "af707cd5",
   "metadata": {
    "scrolled": true
   },
   "outputs": [
    {
     "name": "stdout",
     "output_type": "stream",
     "text": [
      "0.12287492365961428\n"
     ]
    }
   ],
   "source": [
    "#Gradient Boosting Regressor\n",
    "from sklearn.ensemble import GradientBoostingRegressor\n",
    "\n",
    "gb_regressor = GradientBoostingRegressor(n_estimators=100, learning_rate=0.1, max_depth=3, random_state=0)\n",
    "\n",
    "gb_regressor.fit(X_train, y_train.ravel())\n",
    "\n",
    "y_pred_gb = gb_regressor.predict(X_test)\n",
    "\n",
    "gb_r2 = r2_score(y_test, y_pred_gb)\n",
    "print(gb_r2)"
   ]
  },
  {
   "cell_type": "code",
   "execution_count": null,
   "id": "67761807",
   "metadata": {},
   "outputs": [],
   "source": []
  },
  {
   "cell_type": "code",
   "execution_count": 58,
   "id": "b433912a",
   "metadata": {},
   "outputs": [
    {
     "data": {
      "text/plain": [
       "['r2_dt.pkl']"
      ]
     },
     "execution_count": 58,
     "metadata": {},
     "output_type": "execute_result"
    }
   ],
   "source": [
    "import joblib\n",
    "joblib.dump(decision_tree_model,\"r2_dt.pkl\")\n"
   ]
  },
  {
   "cell_type": "code",
   "execution_count": 59,
   "id": "75da9500",
   "metadata": {},
   "outputs": [
    {
     "data": {
      "text/plain": [
       "['r2_linear.pkl']"
      ]
     },
     "execution_count": 59,
     "metadata": {},
     "output_type": "execute_result"
    }
   ],
   "source": [
    "joblib.dump(regressor_linear,\"r2_linear.pkl\")"
   ]
  },
  {
   "cell_type": "code",
   "execution_count": 60,
   "id": "0c45f7a5",
   "metadata": {},
   "outputs": [
    {
     "data": {
      "text/plain": [
       "['r2_ridge.pkl']"
      ]
     },
     "execution_count": 60,
     "metadata": {},
     "output_type": "execute_result"
    }
   ],
   "source": [
    "joblib.dump(regressor_ridge,\"r2_ridge.pkl\")"
   ]
  },
  {
   "cell_type": "code",
   "execution_count": 61,
   "id": "c7857f71",
   "metadata": {},
   "outputs": [
    {
     "data": {
      "text/plain": [
       "['r2_lasso.pkl']"
      ]
     },
     "execution_count": 61,
     "metadata": {},
     "output_type": "execute_result"
    }
   ],
   "source": [
    "joblib.dump(regressor_lasso,\"r2_lasso.pkl\")"
   ]
  },
  {
   "cell_type": "code",
   "execution_count": 62,
   "id": "8c0af71e",
   "metadata": {},
   "outputs": [
    {
     "data": {
      "text/plain": [
       "['rf_r2.pkl']"
      ]
     },
     "execution_count": 62,
     "metadata": {},
     "output_type": "execute_result"
    }
   ],
   "source": [
    "joblib.dump(rf_regressor,\"rf_r2.pkl\")"
   ]
  },
  {
   "cell_type": "code",
   "execution_count": 63,
   "id": "17558005",
   "metadata": {},
   "outputs": [
    {
     "data": {
      "text/plain": [
       "['svr_r2.pkl']"
      ]
     },
     "execution_count": 63,
     "metadata": {},
     "output_type": "execute_result"
    }
   ],
   "source": [
    "joblib.dump(svr_regressor,\"svr_r2.pkl\")"
   ]
  },
  {
   "cell_type": "code",
   "execution_count": 64,
   "id": "66b43849",
   "metadata": {},
   "outputs": [
    {
     "data": {
      "text/plain": [
       "['gb_r2.pkl']"
      ]
     },
     "execution_count": 64,
     "metadata": {},
     "output_type": "execute_result"
    }
   ],
   "source": [
    "joblib.dump(gb_regressor,\"gb_r2.pkl\")"
   ]
  },
  {
   "cell_type": "code",
   "execution_count": null,
   "id": "b97e028d",
   "metadata": {},
   "outputs": [],
   "source": []
  }
 ],
 "metadata": {
  "kernelspec": {
   "display_name": "Python 3 (ipykernel)",
   "language": "python",
   "name": "python3"
  },
  "language_info": {
   "codemirror_mode": {
    "name": "ipython",
    "version": 3
   },
   "file_extension": ".py",
   "mimetype": "text/x-python",
   "name": "python",
   "nbconvert_exporter": "python",
   "pygments_lexer": "ipython3",
   "version": "3.11.5"
  }
 },
 "nbformat": 4,
 "nbformat_minor": 5
}

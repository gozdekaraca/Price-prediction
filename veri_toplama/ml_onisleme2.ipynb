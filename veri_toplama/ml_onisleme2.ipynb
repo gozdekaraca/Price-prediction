{
 "cells": [
  {
   "cell_type": "code",
   "execution_count": 291,
   "id": "1dbb3027",
   "metadata": {},
   "outputs": [],
   "source": [
    "import pandas as pd\n",
    "import numpy as np"
   ]
  },
  {
   "cell_type": "code",
   "execution_count": 292,
   "id": "06d25eb7",
   "metadata": {},
   "outputs": [],
   "source": [
    "data = pd.read_excel(\"C:\\\\Users\\\\Gözde\\\\Desktop\\\\data\\\\ml_onisleme.xlsx\")"
   ]
  },
  {
   "cell_type": "code",
   "execution_count": 293,
   "id": "e01c4bec",
   "metadata": {},
   "outputs": [],
   "source": [
    "df = pd.DataFrame()"
   ]
  },
  {
   "cell_type": "code",
   "execution_count": 294,
   "id": "afb05f1e",
   "metadata": {
    "scrolled": true
   },
   "outputs": [
    {
     "data": {
      "text/html": [
       "<div>\n",
       "<style scoped>\n",
       "    .dataframe tbody tr th:only-of-type {\n",
       "        vertical-align: middle;\n",
       "    }\n",
       "\n",
       "    .dataframe tbody tr th {\n",
       "        vertical-align: top;\n",
       "    }\n",
       "\n",
       "    .dataframe thead th {\n",
       "        text-align: right;\n",
       "    }\n",
       "</style>\n",
       "<table border=\"1\" class=\"dataframe\">\n",
       "  <thead>\n",
       "    <tr style=\"text-align: right;\">\n",
       "      <th></th>\n",
       "      <th>Ekran_Boyutu</th>\n",
       "      <th>Garanti_Suresi</th>\n",
       "      <th>Ram_(Sistem Bellegi)</th>\n",
       "      <th>SSD_Kapasitesi</th>\n",
       "      <th>Isletim_Sistemi</th>\n",
       "      <th>Cozunurluk</th>\n",
       "      <th>price</th>\n",
       "    </tr>\n",
       "  </thead>\n",
       "  <tbody>\n",
       "    <tr>\n",
       "      <th>0</th>\n",
       "      <td>orta ekran</td>\n",
       "      <td>2.0</td>\n",
       "      <td>8</td>\n",
       "      <td>256</td>\n",
       "      <td>Free Dos</td>\n",
       "      <td>1920 x 1080</td>\n",
       "      <td>10499</td>\n",
       "    </tr>\n",
       "    <tr>\n",
       "      <th>1</th>\n",
       "      <td>NaN</td>\n",
       "      <td>2.0</td>\n",
       "      <td>32</td>\n",
       "      <td>256</td>\n",
       "      <td>Free Dos</td>\n",
       "      <td>1920 x 1080</td>\n",
       "      <td>11999</td>\n",
       "    </tr>\n",
       "    <tr>\n",
       "      <th>2</th>\n",
       "      <td>kucuk ekran</td>\n",
       "      <td>2.0</td>\n",
       "      <td>8</td>\n",
       "      <td>512</td>\n",
       "      <td>Windows</td>\n",
       "      <td>1920 x 1080</td>\n",
       "      <td>14999</td>\n",
       "    </tr>\n",
       "    <tr>\n",
       "      <th>3</th>\n",
       "      <td>orta ekran</td>\n",
       "      <td>2.0</td>\n",
       "      <td>16</td>\n",
       "      <td>512</td>\n",
       "      <td>Free Dos</td>\n",
       "      <td>1920 x 1080</td>\n",
       "      <td>11999</td>\n",
       "    </tr>\n",
       "    <tr>\n",
       "      <th>4</th>\n",
       "      <td>NaN</td>\n",
       "      <td>2.0</td>\n",
       "      <td>16</td>\n",
       "      <td>256</td>\n",
       "      <td>Free Dos</td>\n",
       "      <td>NaN</td>\n",
       "      <td>6499</td>\n",
       "    </tr>\n",
       "  </tbody>\n",
       "</table>\n",
       "</div>"
      ],
      "text/plain": [
       "  Ekran_Boyutu  Garanti_Suresi  Ram_(Sistem Bellegi)  SSD_Kapasitesi  \\\n",
       "0   orta ekran             2.0                     8             256   \n",
       "1          NaN             2.0                    32             256   \n",
       "2  kucuk ekran             2.0                     8             512   \n",
       "3   orta ekran             2.0                    16             512   \n",
       "4          NaN             2.0                    16             256   \n",
       "\n",
       "  Isletim_Sistemi   Cozunurluk  price  \n",
       "0        Free Dos  1920 x 1080  10499  \n",
       "1        Free Dos  1920 x 1080  11999  \n",
       "2         Windows  1920 x 1080  14999  \n",
       "3        Free Dos  1920 x 1080  11999  \n",
       "4        Free Dos          NaN   6499  "
      ]
     },
     "execution_count": 294,
     "metadata": {},
     "output_type": "execute_result"
    }
   ],
   "source": [
    "data.head()"
   ]
  },
  {
   "cell_type": "code",
   "execution_count": 295,
   "id": "312607b9",
   "metadata": {},
   "outputs": [],
   "source": [
    "df['Ekran_Boyutu'] = data['Ekran_Boyutu']\n",
    "df['Garanti_Suresi'] = data['Garanti_Suresi']\n",
    "df['Ram_(Sistem Bellegi)'] = data['Ram_(Sistem Bellegi)']\n",
    "df['SSD_Kapasitesi'] = data['SSD_Kapasitesi']\n",
    "df['Isletim_Sistemi'] = data['Isletim_Sistemi']\n",
    "df['Cozunurluk'] = data['Cozunurluk']\n",
    "df['price'] = data['price']"
   ]
  },
  {
   "cell_type": "code",
   "execution_count": 296,
   "id": "f410dbe1",
   "metadata": {},
   "outputs": [
    {
     "data": {
      "text/html": [
       "<div>\n",
       "<style scoped>\n",
       "    .dataframe tbody tr th:only-of-type {\n",
       "        vertical-align: middle;\n",
       "    }\n",
       "\n",
       "    .dataframe tbody tr th {\n",
       "        vertical-align: top;\n",
       "    }\n",
       "\n",
       "    .dataframe thead th {\n",
       "        text-align: right;\n",
       "    }\n",
       "</style>\n",
       "<table border=\"1\" class=\"dataframe\">\n",
       "  <thead>\n",
       "    <tr style=\"text-align: right;\">\n",
       "      <th></th>\n",
       "      <th>Ekran_Boyutu</th>\n",
       "      <th>Garanti_Suresi</th>\n",
       "      <th>Ram_(Sistem Bellegi)</th>\n",
       "      <th>SSD_Kapasitesi</th>\n",
       "      <th>Isletim_Sistemi</th>\n",
       "      <th>Cozunurluk</th>\n",
       "      <th>price</th>\n",
       "    </tr>\n",
       "  </thead>\n",
       "  <tbody>\n",
       "    <tr>\n",
       "      <th>0</th>\n",
       "      <td>orta ekran</td>\n",
       "      <td>2.0</td>\n",
       "      <td>8</td>\n",
       "      <td>256</td>\n",
       "      <td>Free Dos</td>\n",
       "      <td>1920 x 1080</td>\n",
       "      <td>10499</td>\n",
       "    </tr>\n",
       "    <tr>\n",
       "      <th>1</th>\n",
       "      <td>NaN</td>\n",
       "      <td>2.0</td>\n",
       "      <td>32</td>\n",
       "      <td>256</td>\n",
       "      <td>Free Dos</td>\n",
       "      <td>1920 x 1080</td>\n",
       "      <td>11999</td>\n",
       "    </tr>\n",
       "    <tr>\n",
       "      <th>2</th>\n",
       "      <td>kucuk ekran</td>\n",
       "      <td>2.0</td>\n",
       "      <td>8</td>\n",
       "      <td>512</td>\n",
       "      <td>Windows</td>\n",
       "      <td>1920 x 1080</td>\n",
       "      <td>14999</td>\n",
       "    </tr>\n",
       "    <tr>\n",
       "      <th>3</th>\n",
       "      <td>orta ekran</td>\n",
       "      <td>2.0</td>\n",
       "      <td>16</td>\n",
       "      <td>512</td>\n",
       "      <td>Free Dos</td>\n",
       "      <td>1920 x 1080</td>\n",
       "      <td>11999</td>\n",
       "    </tr>\n",
       "    <tr>\n",
       "      <th>4</th>\n",
       "      <td>NaN</td>\n",
       "      <td>2.0</td>\n",
       "      <td>16</td>\n",
       "      <td>256</td>\n",
       "      <td>Free Dos</td>\n",
       "      <td>NaN</td>\n",
       "      <td>6499</td>\n",
       "    </tr>\n",
       "  </tbody>\n",
       "</table>\n",
       "</div>"
      ],
      "text/plain": [
       "  Ekran_Boyutu  Garanti_Suresi  Ram_(Sistem Bellegi)  SSD_Kapasitesi  \\\n",
       "0   orta ekran             2.0                     8             256   \n",
       "1          NaN             2.0                    32             256   \n",
       "2  kucuk ekran             2.0                     8             512   \n",
       "3   orta ekran             2.0                    16             512   \n",
       "4          NaN             2.0                    16             256   \n",
       "\n",
       "  Isletim_Sistemi   Cozunurluk  price  \n",
       "0        Free Dos  1920 x 1080  10499  \n",
       "1        Free Dos  1920 x 1080  11999  \n",
       "2         Windows  1920 x 1080  14999  \n",
       "3        Free Dos  1920 x 1080  11999  \n",
       "4        Free Dos          NaN   6499  "
      ]
     },
     "execution_count": 296,
     "metadata": {},
     "output_type": "execute_result"
    }
   ],
   "source": [
    "df.head()"
   ]
  },
  {
   "cell_type": "code",
   "execution_count": 297,
   "id": "d65cef68",
   "metadata": {},
   "outputs": [],
   "source": [
    "df[\"price\"] = df.price.astype(float)"
   ]
  },
  {
   "cell_type": "code",
   "execution_count": 298,
   "id": "42bcdd08",
   "metadata": {
    "scrolled": true
   },
   "outputs": [
    {
     "data": {
      "text/html": [
       "<div>\n",
       "<style scoped>\n",
       "    .dataframe tbody tr th:only-of-type {\n",
       "        vertical-align: middle;\n",
       "    }\n",
       "\n",
       "    .dataframe tbody tr th {\n",
       "        vertical-align: top;\n",
       "    }\n",
       "\n",
       "    .dataframe thead th {\n",
       "        text-align: right;\n",
       "    }\n",
       "</style>\n",
       "<table border=\"1\" class=\"dataframe\">\n",
       "  <thead>\n",
       "    <tr style=\"text-align: right;\">\n",
       "      <th></th>\n",
       "      <th>Ekran_Boyutu</th>\n",
       "      <th>Garanti_Suresi</th>\n",
       "      <th>Ram_(Sistem Bellegi)</th>\n",
       "      <th>SSD_Kapasitesi</th>\n",
       "      <th>Isletim_Sistemi</th>\n",
       "      <th>Cozunurluk</th>\n",
       "      <th>price</th>\n",
       "    </tr>\n",
       "  </thead>\n",
       "  <tbody>\n",
       "    <tr>\n",
       "      <th>0</th>\n",
       "      <td>orta ekran</td>\n",
       "      <td>2.0</td>\n",
       "      <td>8</td>\n",
       "      <td>256</td>\n",
       "      <td>Free Dos</td>\n",
       "      <td>1920 x 1080</td>\n",
       "      <td>10499.0</td>\n",
       "    </tr>\n",
       "    <tr>\n",
       "      <th>1</th>\n",
       "      <td>NaN</td>\n",
       "      <td>2.0</td>\n",
       "      <td>32</td>\n",
       "      <td>256</td>\n",
       "      <td>Free Dos</td>\n",
       "      <td>1920 x 1080</td>\n",
       "      <td>11999.0</td>\n",
       "    </tr>\n",
       "    <tr>\n",
       "      <th>2</th>\n",
       "      <td>kucuk ekran</td>\n",
       "      <td>2.0</td>\n",
       "      <td>8</td>\n",
       "      <td>512</td>\n",
       "      <td>Windows</td>\n",
       "      <td>1920 x 1080</td>\n",
       "      <td>14999.0</td>\n",
       "    </tr>\n",
       "    <tr>\n",
       "      <th>3</th>\n",
       "      <td>orta ekran</td>\n",
       "      <td>2.0</td>\n",
       "      <td>16</td>\n",
       "      <td>512</td>\n",
       "      <td>Free Dos</td>\n",
       "      <td>1920 x 1080</td>\n",
       "      <td>11999.0</td>\n",
       "    </tr>\n",
       "    <tr>\n",
       "      <th>4</th>\n",
       "      <td>NaN</td>\n",
       "      <td>2.0</td>\n",
       "      <td>16</td>\n",
       "      <td>256</td>\n",
       "      <td>Free Dos</td>\n",
       "      <td>NaN</td>\n",
       "      <td>6499.0</td>\n",
       "    </tr>\n",
       "  </tbody>\n",
       "</table>\n",
       "</div>"
      ],
      "text/plain": [
       "  Ekran_Boyutu  Garanti_Suresi  Ram_(Sistem Bellegi)  SSD_Kapasitesi  \\\n",
       "0   orta ekran             2.0                     8             256   \n",
       "1          NaN             2.0                    32             256   \n",
       "2  kucuk ekran             2.0                     8             512   \n",
       "3   orta ekran             2.0                    16             512   \n",
       "4          NaN             2.0                    16             256   \n",
       "\n",
       "  Isletim_Sistemi   Cozunurluk    price  \n",
       "0        Free Dos  1920 x 1080  10499.0  \n",
       "1        Free Dos  1920 x 1080  11999.0  \n",
       "2         Windows  1920 x 1080  14999.0  \n",
       "3        Free Dos  1920 x 1080  11999.0  \n",
       "4        Free Dos          NaN   6499.0  "
      ]
     },
     "execution_count": 298,
     "metadata": {},
     "output_type": "execute_result"
    }
   ],
   "source": [
    "df.head()"
   ]
  },
  {
   "cell_type": "code",
   "execution_count": 299,
   "id": "fcc2a053",
   "metadata": {},
   "outputs": [],
   "source": [
    "data.to_excel(\"C:\\\\Users\\\\Gözde\\\\Desktop\\\\data\\\\ml_onisleme2.xlsx\", index=False)"
   ]
  },
  {
   "cell_type": "code",
   "execution_count": 300,
   "id": "56369a02",
   "metadata": {
    "scrolled": true
   },
   "outputs": [
    {
     "data": {
      "text/plain": [
       "Isletim_Sistemi\n",
       "Free Dos      588\n",
       "Windows       345\n",
       "Mac Os         33\n",
       "Linux           8\n",
       "Ubuntu          3\n",
       "Windows 11      3\n",
       "Android         1\n",
       "Chrome OS       1\n",
       "Name: count, dtype: int64"
      ]
     },
     "execution_count": 300,
     "metadata": {},
     "output_type": "execute_result"
    }
   ],
   "source": [
    "df['Isletim_Sistemi'].value_counts()"
   ]
  },
  {
   "cell_type": "code",
   "execution_count": 301,
   "id": "4dee6262",
   "metadata": {},
   "outputs": [],
   "source": [
    "from sklearn.preprocessing import LabelEncoder\n",
    "enc = LabelEncoder()"
   ]
  },
  {
   "cell_type": "code",
   "execution_count": 302,
   "id": "e68ded24",
   "metadata": {},
   "outputs": [],
   "source": [
    "df.Ekran_Boyutu.fillna('kucuk ekran',inplace=True)"
   ]
  },
  {
   "cell_type": "code",
   "execution_count": 303,
   "id": "febbce06",
   "metadata": {},
   "outputs": [
    {
     "data": {
      "text/plain": [
       "Ekran_Boyutu\n",
       "orta ekran     595\n",
       "kucuk ekran    250\n",
       "buyuk ekran    137\n",
       "Name: count, dtype: int64"
      ]
     },
     "execution_count": 303,
     "metadata": {},
     "output_type": "execute_result"
    }
   ],
   "source": [
    "df['Ekran_Boyutu'].value_counts()"
   ]
  },
  {
   "cell_type": "code",
   "execution_count": 304,
   "id": "233eed1b",
   "metadata": {},
   "outputs": [],
   "source": [
    "df['Ekran_Boyutu'] = enc.fit_transform(df['Ekran_Boyutu'])"
   ]
  },
  {
   "cell_type": "code",
   "execution_count": 305,
   "id": "dc6a80c4",
   "metadata": {
    "scrolled": true
   },
   "outputs": [
    {
     "data": {
      "text/plain": [
       "Ekran_Boyutu\n",
       "2    595\n",
       "1    250\n",
       "0    137\n",
       "Name: count, dtype: int64"
      ]
     },
     "execution_count": 305,
     "metadata": {},
     "output_type": "execute_result"
    }
   ],
   "source": [
    "df['Ekran_Boyutu'].value_counts()"
   ]
  },
  {
   "cell_type": "code",
   "execution_count": 306,
   "id": "d4faa560",
   "metadata": {},
   "outputs": [
    {
     "name": "stdout",
     "output_type": "stream",
     "text": [
      "  Ekran_Boyutu\n",
      "0  buyuk ekran\n",
      "1  kucuk ekran\n",
      "2   orta ekran\n"
     ]
    }
   ],
   "source": [
    "import pandas as pd\n",
    "\n",
    "indeksler = [2,1,0]\n",
    "degerler = [\"orta ekran\", \"kucuk ekran\", \"buyuk ekran\"]\n",
    "\n",
    "# DataFrame oluştur\n",
    "df_Ekran = pd.DataFrame({'Ekran_Boyutu': degerler}, index=indeksler)\n",
    "\n",
    "# İndeksleri sıralı tablo yapma\n",
    "df_sirali = df_Ekran.sort_index()\n",
    "print(df_sirali)\n"
   ]
  },
  {
   "cell_type": "code",
   "execution_count": 307,
   "id": "b4dc6ea7",
   "metadata": {},
   "outputs": [],
   "source": [
    "df_sirali.to_excel('Ekran_Boyutu.xlsx', index=False)\n"
   ]
  },
  {
   "cell_type": "code",
   "execution_count": 308,
   "id": "ef20c0dc",
   "metadata": {},
   "outputs": [],
   "source": [
    "df[\"Isletim_Sistemi\"] = df.Isletim_Sistemi.str.replace(' ', '')"
   ]
  },
  {
   "cell_type": "code",
   "execution_count": null,
   "id": "6a150c29",
   "metadata": {},
   "outputs": [],
   "source": []
  },
  {
   "cell_type": "code",
   "execution_count": 309,
   "id": "43682cd9",
   "metadata": {},
   "outputs": [],
   "source": [
    "list_Isletim_Sistemi = df[\"Isletim_Sistemi\"].unique()"
   ]
  },
  {
   "cell_type": "code",
   "execution_count": 310,
   "id": "e4ed18ad",
   "metadata": {},
   "outputs": [],
   "source": [
    "list_Isletim_Sistemi.sort()\n",
    "list_Isletim_Sistemi = list(list_Isletim_Sistemi)"
   ]
  },
  {
   "cell_type": "code",
   "execution_count": 311,
   "id": "26e5d7c6",
   "metadata": {},
   "outputs": [],
   "source": [
    "df_Isletim_Sistemi = pd.DataFrame()\n",
    "df_Isletim_Sistemi[\"Isletim_Sistemi\"] = list_Isletim_Sistemi\n"
   ]
  },
  {
   "cell_type": "code",
   "execution_count": 312,
   "id": "c597e0d1",
   "metadata": {},
   "outputs": [],
   "source": [
    "df_Isletim_Sistemi.to_excel(\"Isletim_Sistemi.xlsx\",index=False)"
   ]
  },
  {
   "cell_type": "code",
   "execution_count": 313,
   "id": "c2174d54",
   "metadata": {},
   "outputs": [
    {
     "data": {
      "text/html": [
       "<div>\n",
       "<style scoped>\n",
       "    .dataframe tbody tr th:only-of-type {\n",
       "        vertical-align: middle;\n",
       "    }\n",
       "\n",
       "    .dataframe tbody tr th {\n",
       "        vertical-align: top;\n",
       "    }\n",
       "\n",
       "    .dataframe thead th {\n",
       "        text-align: right;\n",
       "    }\n",
       "</style>\n",
       "<table border=\"1\" class=\"dataframe\">\n",
       "  <thead>\n",
       "    <tr style=\"text-align: right;\">\n",
       "      <th></th>\n",
       "      <th>Ekran_Boyutu</th>\n",
       "      <th>Garanti_Suresi</th>\n",
       "      <th>Ram_(Sistem Bellegi)</th>\n",
       "      <th>SSD_Kapasitesi</th>\n",
       "      <th>Isletim_Sistemi</th>\n",
       "      <th>Cozunurluk</th>\n",
       "      <th>price</th>\n",
       "    </tr>\n",
       "  </thead>\n",
       "  <tbody>\n",
       "    <tr>\n",
       "      <th>0</th>\n",
       "      <td>2</td>\n",
       "      <td>2.0</td>\n",
       "      <td>8</td>\n",
       "      <td>256</td>\n",
       "      <td>FreeDos</td>\n",
       "      <td>1920 x 1080</td>\n",
       "      <td>10499.0</td>\n",
       "    </tr>\n",
       "    <tr>\n",
       "      <th>1</th>\n",
       "      <td>1</td>\n",
       "      <td>2.0</td>\n",
       "      <td>32</td>\n",
       "      <td>256</td>\n",
       "      <td>FreeDos</td>\n",
       "      <td>1920 x 1080</td>\n",
       "      <td>11999.0</td>\n",
       "    </tr>\n",
       "    <tr>\n",
       "      <th>2</th>\n",
       "      <td>1</td>\n",
       "      <td>2.0</td>\n",
       "      <td>8</td>\n",
       "      <td>512</td>\n",
       "      <td>Windows</td>\n",
       "      <td>1920 x 1080</td>\n",
       "      <td>14999.0</td>\n",
       "    </tr>\n",
       "    <tr>\n",
       "      <th>3</th>\n",
       "      <td>2</td>\n",
       "      <td>2.0</td>\n",
       "      <td>16</td>\n",
       "      <td>512</td>\n",
       "      <td>FreeDos</td>\n",
       "      <td>1920 x 1080</td>\n",
       "      <td>11999.0</td>\n",
       "    </tr>\n",
       "    <tr>\n",
       "      <th>4</th>\n",
       "      <td>1</td>\n",
       "      <td>2.0</td>\n",
       "      <td>16</td>\n",
       "      <td>256</td>\n",
       "      <td>FreeDos</td>\n",
       "      <td>NaN</td>\n",
       "      <td>6499.0</td>\n",
       "    </tr>\n",
       "    <tr>\n",
       "      <th>...</th>\n",
       "      <td>...</td>\n",
       "      <td>...</td>\n",
       "      <td>...</td>\n",
       "      <td>...</td>\n",
       "      <td>...</td>\n",
       "      <td>...</td>\n",
       "      <td>...</td>\n",
       "    </tr>\n",
       "    <tr>\n",
       "      <th>977</th>\n",
       "      <td>2</td>\n",
       "      <td>2.0</td>\n",
       "      <td>32</td>\n",
       "      <td>512</td>\n",
       "      <td>FreeDos</td>\n",
       "      <td>2560 x 1600</td>\n",
       "      <td>429999.0</td>\n",
       "    </tr>\n",
       "    <tr>\n",
       "      <th>978</th>\n",
       "      <td>2</td>\n",
       "      <td>2.0</td>\n",
       "      <td>8</td>\n",
       "      <td>128</td>\n",
       "      <td>Windows</td>\n",
       "      <td>1920 x 1080</td>\n",
       "      <td>8999.0</td>\n",
       "    </tr>\n",
       "    <tr>\n",
       "      <th>979</th>\n",
       "      <td>2</td>\n",
       "      <td>2.0</td>\n",
       "      <td>8</td>\n",
       "      <td>512</td>\n",
       "      <td>FreeDos</td>\n",
       "      <td>1920 x 1080</td>\n",
       "      <td>28999.0</td>\n",
       "    </tr>\n",
       "    <tr>\n",
       "      <th>980</th>\n",
       "      <td>2</td>\n",
       "      <td>2.0</td>\n",
       "      <td>8</td>\n",
       "      <td>256</td>\n",
       "      <td>FreeDos</td>\n",
       "      <td>1920 x 1080</td>\n",
       "      <td>10179.0</td>\n",
       "    </tr>\n",
       "    <tr>\n",
       "      <th>981</th>\n",
       "      <td>1</td>\n",
       "      <td>2.0</td>\n",
       "      <td>32</td>\n",
       "      <td>1</td>\n",
       "      <td>FreeDos</td>\n",
       "      <td>4096 x 2160</td>\n",
       "      <td>24099.0</td>\n",
       "    </tr>\n",
       "  </tbody>\n",
       "</table>\n",
       "<p>982 rows × 7 columns</p>\n",
       "</div>"
      ],
      "text/plain": [
       "     Ekran_Boyutu  Garanti_Suresi  Ram_(Sistem Bellegi)  SSD_Kapasitesi  \\\n",
       "0               2             2.0                     8             256   \n",
       "1               1             2.0                    32             256   \n",
       "2               1             2.0                     8             512   \n",
       "3               2             2.0                    16             512   \n",
       "4               1             2.0                    16             256   \n",
       "..            ...             ...                   ...             ...   \n",
       "977             2             2.0                    32             512   \n",
       "978             2             2.0                     8             128   \n",
       "979             2             2.0                     8             512   \n",
       "980             2             2.0                     8             256   \n",
       "981             1             2.0                    32               1   \n",
       "\n",
       "    Isletim_Sistemi   Cozunurluk     price  \n",
       "0           FreeDos  1920 x 1080   10499.0  \n",
       "1           FreeDos  1920 x 1080   11999.0  \n",
       "2           Windows  1920 x 1080   14999.0  \n",
       "3           FreeDos  1920 x 1080   11999.0  \n",
       "4           FreeDos          NaN    6499.0  \n",
       "..              ...          ...       ...  \n",
       "977         FreeDos  2560 x 1600  429999.0  \n",
       "978         Windows  1920 x 1080    8999.0  \n",
       "979         FreeDos  1920 x 1080   28999.0  \n",
       "980         FreeDos  1920 x 1080   10179.0  \n",
       "981         FreeDos  4096 x 2160   24099.0  \n",
       "\n",
       "[982 rows x 7 columns]"
      ]
     },
     "execution_count": 313,
     "metadata": {},
     "output_type": "execute_result"
    }
   ],
   "source": [
    "df"
   ]
  },
  {
   "cell_type": "code",
   "execution_count": 314,
   "id": "0fa2d07b",
   "metadata": {},
   "outputs": [
    {
     "name": "stdout",
     "output_type": "stream",
     "text": [
      "<class 'pandas.core.frame.DataFrame'>\n",
      "RangeIndex: 982 entries, 0 to 981\n",
      "Data columns (total 7 columns):\n",
      " #   Column                Non-Null Count  Dtype  \n",
      "---  ------                --------------  -----  \n",
      " 0   Ekran_Boyutu          982 non-null    int32  \n",
      " 1   Garanti_Suresi        952 non-null    float64\n",
      " 2   Ram_(Sistem Bellegi)  982 non-null    int64  \n",
      " 3   SSD_Kapasitesi        982 non-null    int64  \n",
      " 4   Isletim_Sistemi       982 non-null    object \n",
      " 5   Cozunurluk            871 non-null    object \n",
      " 6   price                 982 non-null    float64\n",
      "dtypes: float64(2), int32(1), int64(2), object(2)\n",
      "memory usage: 50.0+ KB\n"
     ]
    }
   ],
   "source": [
    "df.info()"
   ]
  },
  {
   "cell_type": "code",
   "execution_count": 315,
   "id": "ada3d428",
   "metadata": {},
   "outputs": [
    {
     "name": "stdout",
     "output_type": "stream",
     "text": [
      "False\n",
      "True\n",
      "False\n",
      "False\n",
      "False\n",
      "True\n",
      "False\n"
     ]
    }
   ],
   "source": [
    "print(df['Ekran_Boyutu'].isnull().values.any())\n",
    "print(df['Garanti_Suresi'].isnull().values.any())\n",
    "print(df['Ram_(Sistem Bellegi)'].isnull().values.any())\n",
    "print(df['SSD_Kapasitesi'].isnull().values.any())\n",
    "print(df['Isletim_Sistemi'].isnull().values.any())\n",
    "print(df['Cozunurluk'].isnull().values.any())\n",
    "print(df['price'].isnull().values.any())\n"
   ]
  },
  {
   "cell_type": "code",
   "execution_count": 316,
   "id": "a2cdb2c4",
   "metadata": {},
   "outputs": [
    {
     "data": {
      "text/plain": [
       "Cozunurluk\n",
       "1920 x 1080    668\n",
       "2560 x 1600     50\n",
       "1366 x 768      45\n",
       "1920 x 1200     31\n",
       "4480 x 2520     16\n",
       "2880 x 1800     13\n",
       "3024 x 1964      9\n",
       "3840 x 2160      8\n",
       "2560 x 1440      8\n",
       "1280 x 800       5\n",
       "2880 x 1620      3\n",
       "1600 x 900       2\n",
       "1920 x 1280      2\n",
       "1440 x 900       2\n",
       "5120 x 2880      1\n",
       "2256 x 1504      1\n",
       "3072 x 1920      1\n",
       "3840 x 2400      1\n",
       "2550 x 1600      1\n",
       "2560 x 1664      1\n",
       "2240 x 1400      1\n",
       "2160 x 1440      1\n",
       "4096 x 2160      1\n",
       "Name: count, dtype: int64"
      ]
     },
     "execution_count": 316,
     "metadata": {},
     "output_type": "execute_result"
    }
   ],
   "source": [
    "df['Cozunurluk'].value_counts()"
   ]
  },
  {
   "cell_type": "code",
   "execution_count": 317,
   "id": "27b02b55",
   "metadata": {},
   "outputs": [],
   "source": [
    "df.Garanti_Suresi.fillna(2,inplace=True)\n",
    "df.Cozunurluk.fillna('1920 x 1080',inplace=True)\n"
   ]
  },
  {
   "cell_type": "code",
   "execution_count": 318,
   "id": "b212a1b3",
   "metadata": {},
   "outputs": [
    {
     "name": "stdout",
     "output_type": "stream",
     "text": [
      "NaN Values in Garanti_Suresi column: 30\n"
     ]
    }
   ],
   "source": [
    "nan_values = data[\"Garanti_Suresi\"].isnull().sum()\n",
    "print(\"NaN Values in Garanti_Suresi column:\", nan_values)\n"
   ]
  },
  {
   "cell_type": "code",
   "execution_count": 319,
   "id": "bb6401e9",
   "metadata": {},
   "outputs": [],
   "source": [
    "# NaN değerleri ortalama ile doldurma\n",
    "mean_value = data[\"Garanti_Suresi\"].mean()\n",
    "data[\"Garanti_Suresi\"].fillna(mean_value, inplace=True)\n",
    "\n",
    "# veya NaN değerlere sahip satırları kaldırma\n",
    "# data.dropna(subset=[\"Garanti_Suresi\"], inplace=True)\n"
   ]
  },
  {
   "cell_type": "code",
   "execution_count": 320,
   "id": "e14b4d7d",
   "metadata": {},
   "outputs": [],
   "source": [
    "df[\"Garanti_Suresi\"] = df.Garanti_Suresi.astype(int)"
   ]
  },
  {
   "cell_type": "code",
   "execution_count": 321,
   "id": "da50e746",
   "metadata": {},
   "outputs": [
    {
     "data": {
      "text/plain": [
       "Garanti_Suresi\n",
       "2    969\n",
       "3     12\n",
       "1      1\n",
       "Name: count, dtype: int64"
      ]
     },
     "execution_count": 321,
     "metadata": {},
     "output_type": "execute_result"
    }
   ],
   "source": [
    "df[\"Garanti_Suresi\"].value_counts()"
   ]
  },
  {
   "cell_type": "code",
   "execution_count": 322,
   "id": "4657bc61",
   "metadata": {
    "scrolled": true
   },
   "outputs": [
    {
     "data": {
      "text/plain": [
       "Cozunurluk\n",
       "1920 x 1080    779\n",
       "2560 x 1600     50\n",
       "1366 x 768      45\n",
       "1920 x 1200     31\n",
       "4480 x 2520     16\n",
       "2880 x 1800     13\n",
       "3024 x 1964      9\n",
       "3840 x 2160      8\n",
       "2560 x 1440      8\n",
       "1280 x 800       5\n",
       "2880 x 1620      3\n",
       "1600 x 900       2\n",
       "1920 x 1280      2\n",
       "1440 x 900       2\n",
       "5120 x 2880      1\n",
       "2256 x 1504      1\n",
       "3072 x 1920      1\n",
       "3840 x 2400      1\n",
       "2550 x 1600      1\n",
       "2560 x 1664      1\n",
       "2240 x 1400      1\n",
       "2160 x 1440      1\n",
       "4096 x 2160      1\n",
       "Name: count, dtype: int64"
      ]
     },
     "execution_count": 322,
     "metadata": {},
     "output_type": "execute_result"
    }
   ],
   "source": [
    "df['Cozunurluk'].value_counts()"
   ]
  },
  {
   "cell_type": "code",
   "execution_count": 323,
   "id": "a2380c4e",
   "metadata": {},
   "outputs": [],
   "source": [
    "list_Cozunurluk = df[\"Cozunurluk\"].unique()"
   ]
  },
  {
   "cell_type": "code",
   "execution_count": 324,
   "id": "4ba08760",
   "metadata": {},
   "outputs": [],
   "source": [
    "list_Cozunurluk.sort()\n",
    "list_Cozunurluk = list(list_Cozunurluk)\n"
   ]
  },
  {
   "cell_type": "code",
   "execution_count": 325,
   "id": "b4cdcbfb",
   "metadata": {},
   "outputs": [],
   "source": [
    "import pandas as pd\n",
    "\n",
    "df_Cozunurluk = pd.DataFrame()\n",
    "df_Cozunurluk[\"Cozunurluk\"] = list_Cozunurluk\n"
   ]
  },
  {
   "cell_type": "code",
   "execution_count": 326,
   "id": "3261d1f2",
   "metadata": {},
   "outputs": [],
   "source": [
    "df_Cozunurluk.to_excel(\"Cozunurluk.xlsx\",index=False)"
   ]
  },
  {
   "cell_type": "code",
   "execution_count": 327,
   "id": "dd3997d6",
   "metadata": {},
   "outputs": [
    {
     "name": "stdout",
     "output_type": "stream",
     "text": [
      "False\n",
      "False\n",
      "False\n",
      "False\n",
      "False\n",
      "False\n",
      "False\n"
     ]
    }
   ],
   "source": [
    "print(df['Ekran_Boyutu'].isnull().values.any())\n",
    "print(df['Garanti_Suresi'].isnull().values.any())\n",
    "print(df['Ram_(Sistem Bellegi)'].isnull().values.any())\n",
    "print(df['SSD_Kapasitesi'].isnull().values.any())\n",
    "print(df['Isletim_Sistemi'].isnull().values.any())\n",
    "print(df['Cozunurluk'].isnull().values.any())\n",
    "print(df['price'].isnull().values.any())"
   ]
  },
  {
   "cell_type": "code",
   "execution_count": 328,
   "id": "7bbba7d0",
   "metadata": {
    "scrolled": true
   },
   "outputs": [
    {
     "data": {
      "text/html": [
       "<div>\n",
       "<style scoped>\n",
       "    .dataframe tbody tr th:only-of-type {\n",
       "        vertical-align: middle;\n",
       "    }\n",
       "\n",
       "    .dataframe tbody tr th {\n",
       "        vertical-align: top;\n",
       "    }\n",
       "\n",
       "    .dataframe thead th {\n",
       "        text-align: right;\n",
       "    }\n",
       "</style>\n",
       "<table border=\"1\" class=\"dataframe\">\n",
       "  <thead>\n",
       "    <tr style=\"text-align: right;\">\n",
       "      <th></th>\n",
       "      <th>Ekran_Boyutu</th>\n",
       "      <th>Garanti_Suresi</th>\n",
       "      <th>Ram_(Sistem Bellegi)</th>\n",
       "      <th>SSD_Kapasitesi</th>\n",
       "      <th>Isletim_Sistemi</th>\n",
       "      <th>Cozunurluk</th>\n",
       "      <th>price</th>\n",
       "    </tr>\n",
       "  </thead>\n",
       "  <tbody>\n",
       "    <tr>\n",
       "      <th>0</th>\n",
       "      <td>2</td>\n",
       "      <td>2</td>\n",
       "      <td>8</td>\n",
       "      <td>256</td>\n",
       "      <td>FreeDos</td>\n",
       "      <td>1920 x 1080</td>\n",
       "      <td>10499.0</td>\n",
       "    </tr>\n",
       "    <tr>\n",
       "      <th>1</th>\n",
       "      <td>1</td>\n",
       "      <td>2</td>\n",
       "      <td>32</td>\n",
       "      <td>256</td>\n",
       "      <td>FreeDos</td>\n",
       "      <td>1920 x 1080</td>\n",
       "      <td>11999.0</td>\n",
       "    </tr>\n",
       "    <tr>\n",
       "      <th>2</th>\n",
       "      <td>1</td>\n",
       "      <td>2</td>\n",
       "      <td>8</td>\n",
       "      <td>512</td>\n",
       "      <td>Windows</td>\n",
       "      <td>1920 x 1080</td>\n",
       "      <td>14999.0</td>\n",
       "    </tr>\n",
       "    <tr>\n",
       "      <th>3</th>\n",
       "      <td>2</td>\n",
       "      <td>2</td>\n",
       "      <td>16</td>\n",
       "      <td>512</td>\n",
       "      <td>FreeDos</td>\n",
       "      <td>1920 x 1080</td>\n",
       "      <td>11999.0</td>\n",
       "    </tr>\n",
       "    <tr>\n",
       "      <th>4</th>\n",
       "      <td>1</td>\n",
       "      <td>2</td>\n",
       "      <td>16</td>\n",
       "      <td>256</td>\n",
       "      <td>FreeDos</td>\n",
       "      <td>1920 x 1080</td>\n",
       "      <td>6499.0</td>\n",
       "    </tr>\n",
       "    <tr>\n",
       "      <th>...</th>\n",
       "      <td>...</td>\n",
       "      <td>...</td>\n",
       "      <td>...</td>\n",
       "      <td>...</td>\n",
       "      <td>...</td>\n",
       "      <td>...</td>\n",
       "      <td>...</td>\n",
       "    </tr>\n",
       "    <tr>\n",
       "      <th>977</th>\n",
       "      <td>2</td>\n",
       "      <td>2</td>\n",
       "      <td>32</td>\n",
       "      <td>512</td>\n",
       "      <td>FreeDos</td>\n",
       "      <td>2560 x 1600</td>\n",
       "      <td>429999.0</td>\n",
       "    </tr>\n",
       "    <tr>\n",
       "      <th>978</th>\n",
       "      <td>2</td>\n",
       "      <td>2</td>\n",
       "      <td>8</td>\n",
       "      <td>128</td>\n",
       "      <td>Windows</td>\n",
       "      <td>1920 x 1080</td>\n",
       "      <td>8999.0</td>\n",
       "    </tr>\n",
       "    <tr>\n",
       "      <th>979</th>\n",
       "      <td>2</td>\n",
       "      <td>2</td>\n",
       "      <td>8</td>\n",
       "      <td>512</td>\n",
       "      <td>FreeDos</td>\n",
       "      <td>1920 x 1080</td>\n",
       "      <td>28999.0</td>\n",
       "    </tr>\n",
       "    <tr>\n",
       "      <th>980</th>\n",
       "      <td>2</td>\n",
       "      <td>2</td>\n",
       "      <td>8</td>\n",
       "      <td>256</td>\n",
       "      <td>FreeDos</td>\n",
       "      <td>1920 x 1080</td>\n",
       "      <td>10179.0</td>\n",
       "    </tr>\n",
       "    <tr>\n",
       "      <th>981</th>\n",
       "      <td>1</td>\n",
       "      <td>2</td>\n",
       "      <td>32</td>\n",
       "      <td>1</td>\n",
       "      <td>FreeDos</td>\n",
       "      <td>4096 x 2160</td>\n",
       "      <td>24099.0</td>\n",
       "    </tr>\n",
       "  </tbody>\n",
       "</table>\n",
       "<p>982 rows × 7 columns</p>\n",
       "</div>"
      ],
      "text/plain": [
       "     Ekran_Boyutu  Garanti_Suresi  Ram_(Sistem Bellegi)  SSD_Kapasitesi  \\\n",
       "0               2               2                     8             256   \n",
       "1               1               2                    32             256   \n",
       "2               1               2                     8             512   \n",
       "3               2               2                    16             512   \n",
       "4               1               2                    16             256   \n",
       "..            ...             ...                   ...             ...   \n",
       "977             2               2                    32             512   \n",
       "978             2               2                     8             128   \n",
       "979             2               2                     8             512   \n",
       "980             2               2                     8             256   \n",
       "981             1               2                    32               1   \n",
       "\n",
       "    Isletim_Sistemi   Cozunurluk     price  \n",
       "0           FreeDos  1920 x 1080   10499.0  \n",
       "1           FreeDos  1920 x 1080   11999.0  \n",
       "2           Windows  1920 x 1080   14999.0  \n",
       "3           FreeDos  1920 x 1080   11999.0  \n",
       "4           FreeDos  1920 x 1080    6499.0  \n",
       "..              ...          ...       ...  \n",
       "977         FreeDos  2560 x 1600  429999.0  \n",
       "978         Windows  1920 x 1080    8999.0  \n",
       "979         FreeDos  1920 x 1080   28999.0  \n",
       "980         FreeDos  1920 x 1080   10179.0  \n",
       "981         FreeDos  4096 x 2160   24099.0  \n",
       "\n",
       "[982 rows x 7 columns]"
      ]
     },
     "execution_count": 328,
     "metadata": {},
     "output_type": "execute_result"
    }
   ],
   "source": [
    "df"
   ]
  },
  {
   "cell_type": "code",
   "execution_count": 329,
   "id": "f7686b74",
   "metadata": {},
   "outputs": [],
   "source": [
    "df.to_excel(\"C:\\\\Users\\\\Gözde\\\\Desktop\\\\data\\\\ml_onisleme2.xlsx\", index=False)"
   ]
  },
  {
   "cell_type": "code",
   "execution_count": 330,
   "id": "f26cbac0",
   "metadata": {},
   "outputs": [
    {
     "data": {
      "text/html": [
       "<div>\n",
       "<style scoped>\n",
       "    .dataframe tbody tr th:only-of-type {\n",
       "        vertical-align: middle;\n",
       "    }\n",
       "\n",
       "    .dataframe tbody tr th {\n",
       "        vertical-align: top;\n",
       "    }\n",
       "\n",
       "    .dataframe thead th {\n",
       "        text-align: right;\n",
       "    }\n",
       "</style>\n",
       "<table border=\"1\" class=\"dataframe\">\n",
       "  <thead>\n",
       "    <tr style=\"text-align: right;\">\n",
       "      <th></th>\n",
       "      <th>Ekran_Boyutu</th>\n",
       "      <th>Garanti_Suresi</th>\n",
       "      <th>Ram_(Sistem Bellegi)</th>\n",
       "      <th>SSD_Kapasitesi</th>\n",
       "      <th>Isletim_Sistemi</th>\n",
       "      <th>Cozunurluk</th>\n",
       "      <th>price</th>\n",
       "    </tr>\n",
       "  </thead>\n",
       "  <tbody>\n",
       "    <tr>\n",
       "      <th>0</th>\n",
       "      <td>2</td>\n",
       "      <td>2</td>\n",
       "      <td>8</td>\n",
       "      <td>256</td>\n",
       "      <td>2</td>\n",
       "      <td>4</td>\n",
       "      <td>10499.0</td>\n",
       "    </tr>\n",
       "    <tr>\n",
       "      <th>1</th>\n",
       "      <td>1</td>\n",
       "      <td>2</td>\n",
       "      <td>32</td>\n",
       "      <td>256</td>\n",
       "      <td>2</td>\n",
       "      <td>4</td>\n",
       "      <td>11999.0</td>\n",
       "    </tr>\n",
       "    <tr>\n",
       "      <th>2</th>\n",
       "      <td>1</td>\n",
       "      <td>2</td>\n",
       "      <td>8</td>\n",
       "      <td>512</td>\n",
       "      <td>6</td>\n",
       "      <td>4</td>\n",
       "      <td>14999.0</td>\n",
       "    </tr>\n",
       "    <tr>\n",
       "      <th>3</th>\n",
       "      <td>2</td>\n",
       "      <td>2</td>\n",
       "      <td>16</td>\n",
       "      <td>512</td>\n",
       "      <td>2</td>\n",
       "      <td>4</td>\n",
       "      <td>11999.0</td>\n",
       "    </tr>\n",
       "    <tr>\n",
       "      <th>4</th>\n",
       "      <td>1</td>\n",
       "      <td>2</td>\n",
       "      <td>16</td>\n",
       "      <td>256</td>\n",
       "      <td>2</td>\n",
       "      <td>4</td>\n",
       "      <td>6499.0</td>\n",
       "    </tr>\n",
       "    <tr>\n",
       "      <th>...</th>\n",
       "      <td>...</td>\n",
       "      <td>...</td>\n",
       "      <td>...</td>\n",
       "      <td>...</td>\n",
       "      <td>...</td>\n",
       "      <td>...</td>\n",
       "      <td>...</td>\n",
       "    </tr>\n",
       "    <tr>\n",
       "      <th>977</th>\n",
       "      <td>2</td>\n",
       "      <td>2</td>\n",
       "      <td>32</td>\n",
       "      <td>512</td>\n",
       "      <td>2</td>\n",
       "      <td>12</td>\n",
       "      <td>429999.0</td>\n",
       "    </tr>\n",
       "    <tr>\n",
       "      <th>978</th>\n",
       "      <td>2</td>\n",
       "      <td>2</td>\n",
       "      <td>8</td>\n",
       "      <td>128</td>\n",
       "      <td>6</td>\n",
       "      <td>4</td>\n",
       "      <td>8999.0</td>\n",
       "    </tr>\n",
       "    <tr>\n",
       "      <th>979</th>\n",
       "      <td>2</td>\n",
       "      <td>2</td>\n",
       "      <td>8</td>\n",
       "      <td>512</td>\n",
       "      <td>2</td>\n",
       "      <td>4</td>\n",
       "      <td>28999.0</td>\n",
       "    </tr>\n",
       "    <tr>\n",
       "      <th>980</th>\n",
       "      <td>2</td>\n",
       "      <td>2</td>\n",
       "      <td>8</td>\n",
       "      <td>256</td>\n",
       "      <td>2</td>\n",
       "      <td>4</td>\n",
       "      <td>10179.0</td>\n",
       "    </tr>\n",
       "    <tr>\n",
       "      <th>981</th>\n",
       "      <td>1</td>\n",
       "      <td>2</td>\n",
       "      <td>32</td>\n",
       "      <td>1</td>\n",
       "      <td>2</td>\n",
       "      <td>20</td>\n",
       "      <td>24099.0</td>\n",
       "    </tr>\n",
       "  </tbody>\n",
       "</table>\n",
       "<p>982 rows × 7 columns</p>\n",
       "</div>"
      ],
      "text/plain": [
       "     Ekran_Boyutu  Garanti_Suresi  Ram_(Sistem Bellegi)  SSD_Kapasitesi  \\\n",
       "0               2               2                     8             256   \n",
       "1               1               2                    32             256   \n",
       "2               1               2                     8             512   \n",
       "3               2               2                    16             512   \n",
       "4               1               2                    16             256   \n",
       "..            ...             ...                   ...             ...   \n",
       "977             2               2                    32             512   \n",
       "978             2               2                     8             128   \n",
       "979             2               2                     8             512   \n",
       "980             2               2                     8             256   \n",
       "981             1               2                    32               1   \n",
       "\n",
       "     Isletim_Sistemi  Cozunurluk     price  \n",
       "0                  2           4   10499.0  \n",
       "1                  2           4   11999.0  \n",
       "2                  6           4   14999.0  \n",
       "3                  2           4   11999.0  \n",
       "4                  2           4    6499.0  \n",
       "..               ...         ...       ...  \n",
       "977                2          12  429999.0  \n",
       "978                6           4    8999.0  \n",
       "979                2           4   28999.0  \n",
       "980                2           4   10179.0  \n",
       "981                2          20   24099.0  \n",
       "\n",
       "[982 rows x 7 columns]"
      ]
     },
     "execution_count": 330,
     "metadata": {},
     "output_type": "execute_result"
    }
   ],
   "source": [
    "df['Ekran_Boyutu'] = enc.fit_transform(df['Ekran_Boyutu'])\n",
    "df['Isletim_Sistemi'] = enc.fit_transform(df['Isletim_Sistemi'])\n",
    "df['Cozunurluk'] = enc.fit_transform(df['Cozunurluk'])\n",
    "df"
   ]
  },
  {
   "cell_type": "code",
   "execution_count": 331,
   "id": "f2a3ee7a",
   "metadata": {},
   "outputs": [],
   "source": [
    "df.to_excel(\"ml_onisleme3.xlsx\",index=False)"
   ]
  },
  {
   "cell_type": "code",
   "execution_count": 332,
   "id": "f5023e52",
   "metadata": {},
   "outputs": [
    {
     "name": "stdout",
     "output_type": "stream",
     "text": [
      "<class 'pandas.core.frame.DataFrame'>\n",
      "RangeIndex: 982 entries, 0 to 981\n",
      "Data columns (total 7 columns):\n",
      " #   Column                Non-Null Count  Dtype  \n",
      "---  ------                --------------  -----  \n",
      " 0   Ekran_Boyutu          982 non-null    int64  \n",
      " 1   Garanti_Suresi        982 non-null    int32  \n",
      " 2   Ram_(Sistem Bellegi)  982 non-null    int64  \n",
      " 3   SSD_Kapasitesi        982 non-null    int64  \n",
      " 4   Isletim_Sistemi       982 non-null    int32  \n",
      " 5   Cozunurluk            982 non-null    int32  \n",
      " 6   price                 982 non-null    float64\n",
      "dtypes: float64(1), int32(3), int64(3)\n",
      "memory usage: 42.3 KB\n"
     ]
    }
   ],
   "source": [
    "df.info()"
   ]
  },
  {
   "cell_type": "code",
   "execution_count": null,
   "id": "399558b2",
   "metadata": {},
   "outputs": [],
   "source": []
  },
  {
   "cell_type": "code",
   "execution_count": null,
   "id": "b37aeacd",
   "metadata": {},
   "outputs": [],
   "source": []
  }
 ],
 "metadata": {
  "kernelspec": {
   "display_name": "Python 3 (ipykernel)",
   "language": "python",
   "name": "python3"
  },
  "language_info": {
   "codemirror_mode": {
    "name": "ipython",
    "version": 3
   },
   "file_extension": ".py",
   "mimetype": "text/x-python",
   "name": "python",
   "nbconvert_exporter": "python",
   "pygments_lexer": "ipython3",
   "version": "3.11.5"
  }
 },
 "nbformat": 4,
 "nbformat_minor": 5
}

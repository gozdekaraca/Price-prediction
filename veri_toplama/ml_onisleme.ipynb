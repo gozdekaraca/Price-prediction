{
 "cells": [
  {
   "cell_type": "code",
   "execution_count": 41,
   "id": "593e73e1",
   "metadata": {},
   "outputs": [],
   "source": [
    "import pandas as pd\n",
    "import numpy as np\n",
    "import matplotlib.pyplot as plt\n",
    "import seaborn as sns"
   ]
  },
  {
   "cell_type": "code",
   "execution_count": 42,
   "id": "8ed99bc5",
   "metadata": {},
   "outputs": [],
   "source": [
    "\n",
    "data = pd.read_excel(\"C:\\\\Users\\\\Gözde\\\\Desktop\\\\data\\\\mlproje.xlsx\")\n"
   ]
  },
  {
   "cell_type": "code",
   "execution_count": 43,
   "id": "ea7ecbfb",
   "metadata": {
    "scrolled": false
   },
   "outputs": [
    {
     "name": "stdout",
     "output_type": "stream",
     "text": [
      "<class 'pandas.core.frame.DataFrame'>\n",
      "RangeIndex: 1176 entries, 0 to 1175\n",
      "Data columns (total 44 columns):\n",
      " #   Column                     Non-Null Count  Dtype  \n",
      "---  ------                     --------------  -----  \n",
      " 0   Arttrlabilir Azami Bellek  271 non-null    object \n",
      " 1   Balantlar                  766 non-null    object \n",
      " 2   Balantlar (kincil)         10 non-null     object \n",
      " 3   Beden                      46 non-null     object \n",
      " 4   Cihaz Arl                  822 non-null    object \n",
      " 5   Dokunmatik Ekran           697 non-null    object \n",
      " 6   Ekran Boyutu               851 non-null    object \n",
      " 7   Ekran Kart                 987 non-null    object \n",
      " 8   Ekran Kart Bellek Tipi     986 non-null    object \n",
      " 9   Ekran Kart Hafzas          926 non-null    object \n",
      " 10  Ekran Kart Tipi            979 non-null    object \n",
      " 11  Ekran Yenileme Hz          791 non-null    object \n",
      " 12  Ekran zellii               8 non-null      object \n",
      " 13  Garanti Sresi              952 non-null    object \n",
      " 14  Garanti Tipi               987 non-null    object \n",
      " 15  Grnt Kalitesi              5 non-null      object \n",
      " 16  HDMI                       256 non-null    object \n",
      " 17  Hard Disk Kapasitesi       919 non-null    object \n",
      " 18  Kapasite                   361 non-null    object \n",
      " 19  Klavye                     925 non-null    object \n",
      " 20  Kullanm Amac               977 non-null    object \n",
      " 21  Maksimum lemci Hz (GHz)    248 non-null    float64\n",
      " 22  Okula Dn                   43 non-null     object \n",
      " 23  Optik Src Tipi             518 non-null    object \n",
      " 24  Panel Tipi                 525 non-null    object \n",
      " 25  Power Supply               218 non-null    object \n",
      " 26  Ram (Sistem Bellei)        987 non-null    object \n",
      " 27  Ram (Sistem Bellei) Tipi   836 non-null    object \n",
      " 28  Renk                       782 non-null    object \n",
      " 29  SSD Kapasitesi             987 non-null    object \n",
      " 30  SSD Teknolojisi            107 non-null    object \n",
      " 31  Soket Tipi                 63 non-null     object \n",
      " 32  Temel lemci Hz (GHz)       465 non-null    object \n",
      " 33  arjl Kullanm Sresi         179 non-null    object \n",
      " 34  lemci Frekans              207 non-null    object \n",
      " 35  lemci Modeli               986 non-null    object \n",
      " 36  lemci Nesli                970 non-null    object \n",
      " 37  lemci Tipi                 987 non-null    object \n",
      " 38  lemci ekirdek Says         976 non-null    object \n",
      " 39  letim Sistemi              987 non-null    object \n",
      " 40  znrlk                      871 non-null    object \n",
      " 41  znrlk Standart             839 non-null    object \n",
      " 42  url                        1176 non-null   object \n",
      " 43  price                      1176 non-null   object \n",
      "dtypes: float64(1), object(43)\n",
      "memory usage: 404.4+ KB\n"
     ]
    }
   ],
   "source": [
    "data.info()"
   ]
  },
  {
   "cell_type": "code",
   "execution_count": 44,
   "id": "be11b4ea",
   "metadata": {},
   "outputs": [],
   "source": [
    "data = data.drop(['HDMI','Arttrlabilir Azami Bellek','Balantlar (kincil)','Kapasite', 'Soket Tipi', 'Optik Src Tipi', 'Panel Tipi', 'Power Supply', 'Soket Tipi','SSD Teknolojisi','arjl Kullanm Sresi','znrlk Standart','Beden','Ekran zellii','Garanti Tipi','Grnt Kalitesi','Okula Dn','url','Balantlar','Dokunmatik Ekran','Ekran Kart Bellek Tipi','Ekran Kart Hafzas','Ekran Kart Tipi','Klavye','Kullanm Amac','Ram (Sistem Bellei) Tipi','Renk','lemci Frekans','Cihaz Arl','Ekran Yenileme Hz','Maksimum lemci Hz (GHz)','Temel lemci Hz (GHz)','lemci Nesli','Hard Disk Kapasitesi','lemci ekirdek Says','Ekran Kart'], axis=1)"
   ]
  },
  {
   "cell_type": "code",
   "execution_count": 45,
   "id": "01a877ba",
   "metadata": {},
   "outputs": [],
   "source": [
    "data = data.drop(['lemci Modeli'], axis=1)"
   ]
  },
  {
   "cell_type": "code",
   "execution_count": 46,
   "id": "2a1dc6f7",
   "metadata": {},
   "outputs": [],
   "source": [
    "data = data.drop(['lemci Tipi'], axis=1)"
   ]
  },
  {
   "cell_type": "code",
   "execution_count": 47,
   "id": "a77a269c",
   "metadata": {},
   "outputs": [],
   "source": [
    "data.rename(columns={\n",
    "    'Balantlar':'Baglantilar',\n",
    "    'Cihaz Arl':'Cihaz_agirligi',\n",
    "    'Ekran Kart Hafzas':'Ekran_Kart_Hafizasi',\n",
    "    'Garanti Sresi':'Garanti_Suresi',\n",
    "    'Kullanm Amac':'Kullanim_Amaci',\n",
    "    'Maksimum lemci Hz (GHz)':'Maksimum_islemci_Hizi_(GHz)',\n",
    "    'Ram (Sistem Bellei)':'Ram_(Sistem Bellegi)',\n",
    "    'Ram (Sistem Bellei) Tipi':'Ram_(Sistem Bellegi) Tipi',\n",
    "    'Temel lemci Hz (GHz)':'Temel_islemci_Hizi_(GHz)',\n",
    "    'lemci Frekans':'Islemci_Frekans',\n",
    "    'lemci Modeli':'Islemci_Modeli',\n",
    "    'lemci Nesli':'Islemci_Nesli',\n",
    "    'lemci Tipi':'Islemci_Tipi',\n",
    "    'lemci ekirdek Says':'Islemci_cekirdek_Sayisi',\n",
    "    'letim Sistemi':'Isletim_Sistemi',\n",
    "    'znrlk':'Cozunurluk',\n",
    "    'Ekran Boyutu':'Ekran_Boyutu',\n",
    "    'Ekran Kart':'Ekran_Kart',\n",
    "    'Hard Disk Kapasitesi':'Hard_Disk_Kapasitesi',\n",
    "    'SSD Kapasitesi':'SSD_Kapasitesi'\n",
    "    \n",
    "    \n",
    "    \n",
    "},inplace=True)"
   ]
  },
  {
   "cell_type": "code",
   "execution_count": 48,
   "id": "ccb27873",
   "metadata": {},
   "outputs": [
    {
     "name": "stdout",
     "output_type": "stream",
     "text": [
      "<class 'pandas.core.frame.DataFrame'>\n",
      "RangeIndex: 1176 entries, 0 to 1175\n",
      "Data columns (total 7 columns):\n",
      " #   Column                Non-Null Count  Dtype \n",
      "---  ------                --------------  ----- \n",
      " 0   Ekran_Boyutu          851 non-null    object\n",
      " 1   Garanti_Suresi        952 non-null    object\n",
      " 2   Ram_(Sistem Bellegi)  987 non-null    object\n",
      " 3   SSD_Kapasitesi        987 non-null    object\n",
      " 4   Isletim_Sistemi       987 non-null    object\n",
      " 5   Cozunurluk            871 non-null    object\n",
      " 6   price                 1176 non-null   object\n",
      "dtypes: object(7)\n",
      "memory usage: 64.4+ KB\n"
     ]
    }
   ],
   "source": [
    "data.info()"
   ]
  },
  {
   "cell_type": "code",
   "execution_count": 49,
   "id": "119e8afd",
   "metadata": {
    "scrolled": true
   },
   "outputs": [
    {
     "data": {
      "text/html": [
       "<div>\n",
       "<style scoped>\n",
       "    .dataframe tbody tr th:only-of-type {\n",
       "        vertical-align: middle;\n",
       "    }\n",
       "\n",
       "    .dataframe tbody tr th {\n",
       "        vertical-align: top;\n",
       "    }\n",
       "\n",
       "    .dataframe thead th {\n",
       "        text-align: right;\n",
       "    }\n",
       "</style>\n",
       "<table border=\"1\" class=\"dataframe\">\n",
       "  <thead>\n",
       "    <tr style=\"text-align: right;\">\n",
       "      <th></th>\n",
       "      <th>Ekran_Boyutu</th>\n",
       "      <th>Garanti_Suresi</th>\n",
       "      <th>Ram_(Sistem Bellegi)</th>\n",
       "      <th>SSD_Kapasitesi</th>\n",
       "      <th>Isletim_Sistemi</th>\n",
       "      <th>Cozunurluk</th>\n",
       "      <th>price</th>\n",
       "    </tr>\n",
       "  </thead>\n",
       "  <tbody>\n",
       "    <tr>\n",
       "      <th>0</th>\n",
       "      <td>15,6 in</td>\n",
       "      <td>2 Yl</td>\n",
       "      <td>8 GB</td>\n",
       "      <td>256 GB</td>\n",
       "      <td>Free Dos</td>\n",
       "      <td>1920 x 1080</td>\n",
       "      <td>10.499 TL</td>\n",
       "    </tr>\n",
       "    <tr>\n",
       "      <th>1</th>\n",
       "      <td>NaN</td>\n",
       "      <td>NaN</td>\n",
       "      <td>NaN</td>\n",
       "      <td>NaN</td>\n",
       "      <td>NaN</td>\n",
       "      <td>NaN</td>\n",
       "      <td>13.999 TL</td>\n",
       "    </tr>\n",
       "    <tr>\n",
       "      <th>2</th>\n",
       "      <td>NaN</td>\n",
       "      <td>NaN</td>\n",
       "      <td>NaN</td>\n",
       "      <td>NaN</td>\n",
       "      <td>NaN</td>\n",
       "      <td>NaN</td>\n",
       "      <td>29.999 TL</td>\n",
       "    </tr>\n",
       "    <tr>\n",
       "      <th>3</th>\n",
       "      <td>NaN</td>\n",
       "      <td>2 Yl</td>\n",
       "      <td>32 GB</td>\n",
       "      <td>256 GB</td>\n",
       "      <td>Free Dos</td>\n",
       "      <td>1920 x 1080</td>\n",
       "      <td>11.999 TL</td>\n",
       "    </tr>\n",
       "    <tr>\n",
       "      <th>4</th>\n",
       "      <td>NaN</td>\n",
       "      <td>NaN</td>\n",
       "      <td>NaN</td>\n",
       "      <td>NaN</td>\n",
       "      <td>NaN</td>\n",
       "      <td>NaN</td>\n",
       "      <td>6.697 TL</td>\n",
       "    </tr>\n",
       "  </tbody>\n",
       "</table>\n",
       "</div>"
      ],
      "text/plain": [
       "  Ekran_Boyutu Garanti_Suresi Ram_(Sistem Bellegi) SSD_Kapasitesi  \\\n",
       "0      15,6 in           2 Yl                 8 GB         256 GB   \n",
       "1          NaN            NaN                  NaN            NaN   \n",
       "2          NaN            NaN                  NaN            NaN   \n",
       "3          NaN           2 Yl                32 GB         256 GB   \n",
       "4          NaN            NaN                  NaN            NaN   \n",
       "\n",
       "  Isletim_Sistemi   Cozunurluk      price  \n",
       "0        Free Dos  1920 x 1080  10.499 TL  \n",
       "1             NaN          NaN  13.999 TL  \n",
       "2             NaN          NaN  29.999 TL  \n",
       "3        Free Dos  1920 x 1080  11.999 TL  \n",
       "4             NaN          NaN   6.697 TL  "
      ]
     },
     "execution_count": 49,
     "metadata": {},
     "output_type": "execute_result"
    }
   ],
   "source": [
    "data.head()\n"
   ]
  },
  {
   "cell_type": "code",
   "execution_count": 50,
   "id": "77761065",
   "metadata": {},
   "outputs": [
    {
     "data": {
      "image/png": "[encoded data removed]",
      "text/plain": [
       "<Figure size 1600x1600 with 1 Axes>"
      ]
     },
     "metadata": {},
     "output_type": "display_data"
    }
   ],
   "source": [
    "plt.figure(figsize=(16,16))\n",
    "plt.subplot(2,1,1)\n",
    "sns.countplot(x='Cozunurluk',data=data,order = data['Cozunurluk'].value_counts().index)\n",
    "plt.xticks(rotation = 90)\n",
    "plt.show()\n"
   ]
  },
  {
   "cell_type": "code",
   "execution_count": 51,
   "id": "bbcb5be8",
   "metadata": {},
   "outputs": [],
   "source": [
    "for i in range(0, 100):\n",
    "    data[\"price\"] = data[\"price\"].str.replace(',{}'.format(i), '')\n",
    "\n",
    "data[\"price\"] = data[\"price\"].str.replace(',00', '')\n",
    "data[\"price\"] = data[\"price\"].str.replace(',01', '')\n",
    "data[\"price\"] = data[\"price\"].str.replace(',02', '')\n",
    "data[\"price\"] = data[\"price\"].str.replace(',03', '')\n",
    "data[\"price\"] = data[\"price\"].str.replace(',04', '')\n",
    "data[\"price\"] = data[\"price\"].str.replace(',05', '')\n",
    "data[\"price\"] = data[\"price\"].str.replace(',06', '')\n",
    "data[\"price\"] = data[\"price\"].str.replace(',07', '')\n",
    "data[\"price\"] = data[\"price\"].str.replace(',08', '')\n",
    "data[\"price\"] = data[\"price\"].str.replace(',09', '') \n",
    "data[\"price\"] = data[\"price\"].str.replace('.', '')\n",
    "\n",
    "\n",
    "   "
   ]
  },
  {
   "cell_type": "code",
   "execution_count": 52,
   "id": "0217ed3c",
   "metadata": {},
   "outputs": [],
   "source": [
    "# En az 5 non-NaN değeri olan satırları bırakın\n",
    "data.dropna(thresh=5, inplace=True)"
   ]
  },
  {
   "cell_type": "code",
   "execution_count": 53,
   "id": "87161096",
   "metadata": {},
   "outputs": [],
   "source": [
    "data[\"price\"] = data[\"price\"].str.replace('TL', '')"
   ]
  },
  {
   "cell_type": "code",
   "execution_count": 54,
   "id": "545c6e01",
   "metadata": {},
   "outputs": [],
   "source": [
    "data[\"price\"] = data.price.astype(float)"
   ]
  },
  {
   "cell_type": "code",
   "execution_count": 55,
   "id": "62b1e725",
   "metadata": {},
   "outputs": [
    {
     "name": "stdout",
     "output_type": "stream",
     "text": [
      "0        10499.0\n",
      "3        11999.0\n",
      "5        14999.0\n",
      "6        11999.0\n",
      "7         6499.0\n",
      "          ...   \n",
      "1170    429999.0\n",
      "1171      8999.0\n",
      "1173     28999.0\n",
      "1174     10179.0\n",
      "1175     24099.0\n",
      "Name: price, Length: 982, dtype: float64\n"
     ]
    }
   ],
   "source": [
    "print(data[\"price\"])"
   ]
  },
  {
   "cell_type": "code",
   "execution_count": 56,
   "id": "913c236a",
   "metadata": {},
   "outputs": [
    {
     "data": {
      "text/plain": [
       "0       2 Yl\n",
       "3       2 Yl\n",
       "5       2 Yl\n",
       "6       2 Yl\n",
       "7       2 Yl\n",
       "        ... \n",
       "1170    2 Yl\n",
       "1171    2 Yl\n",
       "1173    2 Yl\n",
       "1174    2 Yl\n",
       "1175    2 Yl\n",
       "Name: Garanti_Suresi, Length: 982, dtype: object"
      ]
     },
     "execution_count": 56,
     "metadata": {},
     "output_type": "execute_result"
    }
   ],
   "source": [
    "data[\"Garanti_Suresi\"]"
   ]
  },
  {
   "cell_type": "code",
   "execution_count": 57,
   "id": "534bde9e",
   "metadata": {},
   "outputs": [
    {
     "data": {
      "text/plain": [
       "0        8 GB\n",
       "3       32 GB\n",
       "5        8 GB\n",
       "6       16 GB\n",
       "7       16 GB\n",
       "        ...  \n",
       "1170    32 GB\n",
       "1171     8 GB\n",
       "1173     8 GB\n",
       "1174     8 GB\n",
       "1175    32 GB\n",
       "Name: Ram_(Sistem Bellegi), Length: 982, dtype: object"
      ]
     },
     "execution_count": 57,
     "metadata": {},
     "output_type": "execute_result"
    }
   ],
   "source": [
    "data[\"Ram_(Sistem Bellegi)\"]"
   ]
  },
  {
   "cell_type": "code",
   "execution_count": 58,
   "id": "66e3ce26",
   "metadata": {},
   "outputs": [],
   "source": [
    "data[\"Ram_(Sistem Bellegi)\"] = data[\"Ram_(Sistem Bellegi)\"].str.replace('GB', '')"
   ]
  },
  {
   "cell_type": "code",
   "execution_count": 59,
   "id": "4aca8de8",
   "metadata": {},
   "outputs": [],
   "source": [
    "data[\"Ram_(Sistem Bellegi)\"] = data[\"Ram_(Sistem Bellegi)\"].astype(float)\n"
   ]
  },
  {
   "cell_type": "code",
   "execution_count": 60,
   "id": "4ed61246",
   "metadata": {},
   "outputs": [],
   "source": [
    "data.loc[data[\"SSD_Kapasitesi\"] == \"SSD Yok\" , \"SSD_Kapasitesi\"] = \"0\""
   ]
  },
  {
   "cell_type": "code",
   "execution_count": 61,
   "id": "de415486",
   "metadata": {},
   "outputs": [],
   "source": [
    "data.loc[data[\"SSD_Kapasitesi\"] == \"Yok\" , \"SSD_Kapasitesi\"] = \"0\""
   ]
  },
  {
   "cell_type": "code",
   "execution_count": 62,
   "id": "dfa479c5",
   "metadata": {},
   "outputs": [
    {
     "data": {
      "text/plain": [
       "0       256 GB\n",
       "3       256 GB\n",
       "5       512 GB\n",
       "6       512 GB\n",
       "7       256 GB\n",
       "         ...  \n",
       "1170    512 GB\n",
       "1171    128 GB\n",
       "1173    512 GB\n",
       "1174    256 GB\n",
       "1175      1 TB\n",
       "Name: SSD_Kapasitesi, Length: 982, dtype: object"
      ]
     },
     "execution_count": 62,
     "metadata": {},
     "output_type": "execute_result"
    }
   ],
   "source": [
    "data[\"SSD_Kapasitesi\"]"
   ]
  },
  {
   "cell_type": "code",
   "execution_count": 63,
   "id": "23162023",
   "metadata": {},
   "outputs": [
    {
     "name": "stdout",
     "output_type": "stream",
     "text": [
      "['256 GB' '512 GB' '1 TB' '0' '128 GB' '240 GB' '8 GB' '500 GB' '2 TB'\n",
      " '64 GB' '4 TB' '32 GB' '120 GB' '480 GB']\n"
     ]
    }
   ],
   "source": [
    "print(data[\"SSD_Kapasitesi\"].unique())"
   ]
  },
  {
   "cell_type": "code",
   "execution_count": 64,
   "id": "fbaaf61d",
   "metadata": {},
   "outputs": [],
   "source": [
    "data[\"SSD_Kapasitesi\"] = data[\"SSD_Kapasitesi\"].str.replace('TB', '')"
   ]
  },
  {
   "cell_type": "code",
   "execution_count": 65,
   "id": "c0cbe3c7",
   "metadata": {},
   "outputs": [],
   "source": [
    "data[\"SSD_Kapasitesi\"] = data[\"SSD_Kapasitesi\"].str.replace('GB', '')"
   ]
  },
  {
   "cell_type": "code",
   "execution_count": 66,
   "id": "40ac40d3",
   "metadata": {},
   "outputs": [],
   "source": [
    "data[\"SSD_Kapasitesi\"] = data[\"SSD_Kapasitesi\"].astype(float)"
   ]
  },
  {
   "cell_type": "code",
   "execution_count": 67,
   "id": "83847dde",
   "metadata": {},
   "outputs": [],
   "source": [
    "data[\"Ekran_Boyutu\"] = data[\"Ekran_Boyutu\"].str.replace('in', '')\n"
   ]
  },
  {
   "cell_type": "code",
   "execution_count": 68,
   "id": "590d29d7",
   "metadata": {},
   "outputs": [],
   "source": [
    "data[\"Garanti_Suresi\"] = data[\"Garanti_Suresi\"].str.replace('Yl', '')"
   ]
  },
  {
   "cell_type": "code",
   "execution_count": 69,
   "id": "1266e1a4",
   "metadata": {
    "scrolled": false
   },
   "outputs": [
    {
     "name": "stdout",
     "output_type": "stream",
     "text": [
      "['15,6 ' nan '14 ' '13,3 ' '10,1 ' '24\" / 61 Ekran' '14,1 ' '18 - 21 '\n",
      " '13 ' '11 ' '19\" / 48 Ekran' '16,1 ' '16 ' '17,3 ' '6  ve st' '17 '\n",
      " '20\" / 51 Ekran' '14,5 ' '22 - 24 ' '11,6 ' '18 ' '13,6 ' '25 + ' '7 '\n",
      " '5,5 - 6 ' '15 ' '24 ' '12,5 ' '22\" / 55 Ekran' '10 ' '21,5 ' '13,4 '\n",
      " '8,0 ' 'Belirtilmemi' '4 - 4,5 ' '27 ' '14 - 17 ' '23.8 ']\n"
     ]
    }
   ],
   "source": [
    "#sütundaki benzersiz değerler\n",
    "print(data[\"Ekran_Boyutu\"].unique())"
   ]
  },
  {
   "cell_type": "code",
   "execution_count": 70,
   "id": "0a84113e",
   "metadata": {},
   "outputs": [],
   "source": [
    "data.loc[data[\"Ekran_Boyutu\"] == \"14 \" , \"Ekran_Boyutu\"] = \"kucuk ekran\"\n",
    "data.loc[data[\"Ekran_Boyutu\"] == \"13,3 \" , \"Ekran_Boyutu\"] = \"kucuk ekran\"\n",
    "data.loc[data[\"Ekran_Boyutu\"] == \"10,1 \" , \"Ekran_Boyutu\"] = \"kucuk ekran\"\n",
    "data.loc[data[\"Ekran_Boyutu\"] == \"14,1 \" , \"Ekran_Boyutu\"] = \"kucuk ekran\"\n",
    "data.loc[data[\"Ekran_Boyutu\"] == \"13 \" , \"Ekran_Boyutu\"] = \"kucuk ekran\"\n",
    "data.loc[data[\"Ekran_Boyutu\"] == \"11 \" , \"Ekran_Boyutu\"] = \"kucuk ekran\"\n",
    "data.loc[data[\"Ekran_Boyutu\"] == \"14,5 \", \"Ekran_Boyutu\"] = \"kucuk ekran\"\n",
    "data.loc[data[\"Ekran_Boyutu\"] == \"11,6 \" , \"Ekran_Boyutu\"] = \"kucuk ekran\"\n",
    "data.loc[data[\"Ekran_Boyutu\"] == \"13,6 \" , \"Ekran_Boyutu\"] = \"kucuk ekran\"\n",
    "data.loc[data[\"Ekran_Boyutu\"] == \"5,5 - 6 \" , \"Ekran_Boyutu\"] = \"kucuk ekran\"\n",
    "data.loc[data[\"Ekran_Boyutu\"] == \"12,5 \" , \"Ekran_Boyutu\"] = \"kucuk ekran\"\n",
    "data.loc[data[\"Ekran_Boyutu\"] == \"10 \" , \"Ekran_Boyutu\"] = \"kucuk ekran\"\n",
    "data.loc[data[\"Ekran_Boyutu\"] == \"13,4 \" , \"Ekran_Boyutu\"] = \"kucuk ekran\"\n",
    "data.loc[data[\"Ekran_Boyutu\"] == \"8,0 \" , \"Ekran_Boyutu\"] = \"kucuk ekran\"\n",
    "data.loc[data[\"Ekran_Boyutu\"] == \"4 - 4,5 \" , \"Ekran_Boyutu\"] = \"kucuk ekran\"\n",
    "data.loc[data[\"Ekran_Boyutu\"] == \"6  ve st\" , \"Ekran_Boyutu\"] = \"kucuk ekran\"\n",
    "data.loc[data[\"Ekran_Boyutu\"] == \"7 \" , \"Ekran_Boyutu\"] = \"kucuk ekran\"\n",
    "data.loc[data[\"Ekran_Boyutu\"] == \"Belirtilmemi\" , \"Ekran_Boyutu\"] = \"kucuk ekran\"\n"
   ]
  },
  {
   "cell_type": "code",
   "execution_count": 71,
   "id": "7a5db15f",
   "metadata": {},
   "outputs": [],
   "source": [
    "data.loc[data[\"Ekran_Boyutu\"] == \"15,6 \" , \"Ekran_Boyutu\"] = \"orta ekran\"\n",
    "data.loc[data[\"Ekran_Boyutu\"] == \"14,1 \" , \"Ekran_Boyutu\"] = \"orta ekran\"\n",
    "data.loc[data[\"Ekran_Boyutu\"] == \"10,1 \" , \"Ekran_Boyutu\"] = \"orta ekran\"\n",
    "data.loc[data[\"Ekran_Boyutu\"] == \"14,1 \" , \"Ekran_Boyutu\"] = \"orta ekran\"\n",
    "data.loc[data[\"Ekran_Boyutu\"] == '19\" / 48 Ekran' , \"Ekran_Boyutu\"] = \"orta ekran\"\n",
    "data.loc[data[\"Ekran_Boyutu\"] == \"16,1 \" , \"Ekran_Boyutu\"] = \"orta ekran\"\n",
    "data.loc[data[\"Ekran_Boyutu\"] == \"16 \", \"Ekran_Boyutu\"] = \"orta ekran\"\n",
    "data.loc[data[\"Ekran_Boyutu\"] == \"17,3 \" , \"Ekran_Boyutu\"] = \"orta ekran\"\n",
    "data.loc[data[\"Ekran_Boyutu\"] == \"17 \" , \"Ekran_Boyutu\"] = \"orta ekran\"\n",
    "data.loc[data[\"Ekran_Boyutu\"] == \"18 \" , \"Ekran_Boyutu\"] = \"orta ekran\"\n",
    "data.loc[data[\"Ekran_Boyutu\"] == \"14 - 17 \" , \"Ekran_Boyutu\"] = \"orta ekran\"\n",
    "data.loc[data[\"Ekran_Boyutu\"] == \"18 - 21 \" , \"Ekran_Boyutu\"] = \"orta ekran\"\n",
    "data.loc[data[\"Ekran_Boyutu\"] == \"15 \" , \"Ekran_Boyutu\"] = \"orta ekran\"\n"
   ]
  },
  {
   "cell_type": "code",
   "execution_count": 72,
   "id": "edbc106b",
   "metadata": {},
   "outputs": [],
   "source": [
    "data.loc[data[\"Ekran_Boyutu\"] == '24\" / 61 Ekran' , \"Ekran_Boyutu\"] = \"buyuk ekran\"\n",
    "data.loc[data[\"Ekran_Boyutu\"] == '20\" / 51 Ekran' , \"Ekran_Boyutu\"] = \"buyuk ekran\"\n",
    "data.loc[data[\"Ekran_Boyutu\"] == \"22 - 24 \" , \"Ekran_Boyutu\"] = \"buyuk ekran\"\n",
    "data.loc[data[\"Ekran_Boyutu\"] == \"25 + \" , \"Ekran_Boyutu\"] = \"buyuk ekran\"\n",
    "data.loc[data[\"Ekran_Boyutu\"] == \"24 \" , \"Ekran_Boyutu\"] = \"buyuk ekran\"\n",
    "data.loc[data[\"Ekran_Boyutu\"] == '22\" / 55 Ekran' , \"Ekran_Boyutu\"] = \"buyuk ekran\"\n",
    "data.loc[data[\"Ekran_Boyutu\"] == \"21,5 \", \"Ekran_Boyutu\"] = \"buyuk ekran\"\n",
    "data.loc[data[\"Ekran_Boyutu\"] == \"27 \" , \"Ekran_Boyutu\"] = \"buyuk ekran\"\n",
    "data.loc[data[\"Ekran_Boyutu\"] == \"23.8 \" , \"Ekran_Boyutu\"] = \"buyuk ekran\""
   ]
  },
  {
   "cell_type": "code",
   "execution_count": 73,
   "id": "5821bf0c",
   "metadata": {},
   "outputs": [
    {
     "data": {
      "text/html": [
       "<div>\n",
       "<style scoped>\n",
       "    .dataframe tbody tr th:only-of-type {\n",
       "        vertical-align: middle;\n",
       "    }\n",
       "\n",
       "    .dataframe tbody tr th {\n",
       "        vertical-align: top;\n",
       "    }\n",
       "\n",
       "    .dataframe thead th {\n",
       "        text-align: right;\n",
       "    }\n",
       "</style>\n",
       "<table border=\"1\" class=\"dataframe\">\n",
       "  <thead>\n",
       "    <tr style=\"text-align: right;\">\n",
       "      <th></th>\n",
       "      <th>Ekran_Boyutu</th>\n",
       "      <th>Garanti_Suresi</th>\n",
       "      <th>Ram_(Sistem Bellegi)</th>\n",
       "      <th>SSD_Kapasitesi</th>\n",
       "      <th>Isletim_Sistemi</th>\n",
       "      <th>Cozunurluk</th>\n",
       "      <th>price</th>\n",
       "    </tr>\n",
       "  </thead>\n",
       "  <tbody>\n",
       "    <tr>\n",
       "      <th>0</th>\n",
       "      <td>orta ekran</td>\n",
       "      <td>2</td>\n",
       "      <td>8.0</td>\n",
       "      <td>256.0</td>\n",
       "      <td>Free Dos</td>\n",
       "      <td>1920 x 1080</td>\n",
       "      <td>10499.0</td>\n",
       "    </tr>\n",
       "    <tr>\n",
       "      <th>3</th>\n",
       "      <td>NaN</td>\n",
       "      <td>2</td>\n",
       "      <td>32.0</td>\n",
       "      <td>256.0</td>\n",
       "      <td>Free Dos</td>\n",
       "      <td>1920 x 1080</td>\n",
       "      <td>11999.0</td>\n",
       "    </tr>\n",
       "    <tr>\n",
       "      <th>5</th>\n",
       "      <td>kucuk ekran</td>\n",
       "      <td>2</td>\n",
       "      <td>8.0</td>\n",
       "      <td>512.0</td>\n",
       "      <td>Windows</td>\n",
       "      <td>1920 x 1080</td>\n",
       "      <td>14999.0</td>\n",
       "    </tr>\n",
       "    <tr>\n",
       "      <th>6</th>\n",
       "      <td>orta ekran</td>\n",
       "      <td>2</td>\n",
       "      <td>16.0</td>\n",
       "      <td>512.0</td>\n",
       "      <td>Free Dos</td>\n",
       "      <td>1920 x 1080</td>\n",
       "      <td>11999.0</td>\n",
       "    </tr>\n",
       "    <tr>\n",
       "      <th>7</th>\n",
       "      <td>NaN</td>\n",
       "      <td>2</td>\n",
       "      <td>16.0</td>\n",
       "      <td>256.0</td>\n",
       "      <td>Free Dos</td>\n",
       "      <td>NaN</td>\n",
       "      <td>6499.0</td>\n",
       "    </tr>\n",
       "    <tr>\n",
       "      <th>...</th>\n",
       "      <td>...</td>\n",
       "      <td>...</td>\n",
       "      <td>...</td>\n",
       "      <td>...</td>\n",
       "      <td>...</td>\n",
       "      <td>...</td>\n",
       "      <td>...</td>\n",
       "    </tr>\n",
       "    <tr>\n",
       "      <th>1170</th>\n",
       "      <td>orta ekran</td>\n",
       "      <td>2</td>\n",
       "      <td>32.0</td>\n",
       "      <td>512.0</td>\n",
       "      <td>Free Dos</td>\n",
       "      <td>2560 x 1600</td>\n",
       "      <td>429999.0</td>\n",
       "    </tr>\n",
       "    <tr>\n",
       "      <th>1171</th>\n",
       "      <td>orta ekran</td>\n",
       "      <td>2</td>\n",
       "      <td>8.0</td>\n",
       "      <td>128.0</td>\n",
       "      <td>Windows</td>\n",
       "      <td>1920 x 1080</td>\n",
       "      <td>8999.0</td>\n",
       "    </tr>\n",
       "    <tr>\n",
       "      <th>1173</th>\n",
       "      <td>orta ekran</td>\n",
       "      <td>2</td>\n",
       "      <td>8.0</td>\n",
       "      <td>512.0</td>\n",
       "      <td>Free Dos</td>\n",
       "      <td>1920 x 1080</td>\n",
       "      <td>28999.0</td>\n",
       "    </tr>\n",
       "    <tr>\n",
       "      <th>1174</th>\n",
       "      <td>orta ekran</td>\n",
       "      <td>2</td>\n",
       "      <td>8.0</td>\n",
       "      <td>256.0</td>\n",
       "      <td>Free Dos</td>\n",
       "      <td>1920 x 1080</td>\n",
       "      <td>10179.0</td>\n",
       "    </tr>\n",
       "    <tr>\n",
       "      <th>1175</th>\n",
       "      <td>NaN</td>\n",
       "      <td>2</td>\n",
       "      <td>32.0</td>\n",
       "      <td>1.0</td>\n",
       "      <td>Free Dos</td>\n",
       "      <td>4096 x 2160</td>\n",
       "      <td>24099.0</td>\n",
       "    </tr>\n",
       "  </tbody>\n",
       "</table>\n",
       "<p>982 rows × 7 columns</p>\n",
       "</div>"
      ],
      "text/plain": [
       "     Ekran_Boyutu Garanti_Suresi  Ram_(Sistem Bellegi)  SSD_Kapasitesi  \\\n",
       "0      orta ekran             2                    8.0           256.0   \n",
       "3             NaN             2                   32.0           256.0   \n",
       "5     kucuk ekran             2                    8.0           512.0   \n",
       "6      orta ekran             2                   16.0           512.0   \n",
       "7             NaN             2                   16.0           256.0   \n",
       "...           ...            ...                   ...             ...   \n",
       "1170   orta ekran             2                   32.0           512.0   \n",
       "1171   orta ekran             2                    8.0           128.0   \n",
       "1173   orta ekran             2                    8.0           512.0   \n",
       "1174   orta ekran             2                    8.0           256.0   \n",
       "1175          NaN             2                   32.0             1.0   \n",
       "\n",
       "     Isletim_Sistemi   Cozunurluk     price  \n",
       "0           Free Dos  1920 x 1080   10499.0  \n",
       "3           Free Dos  1920 x 1080   11999.0  \n",
       "5            Windows  1920 x 1080   14999.0  \n",
       "6           Free Dos  1920 x 1080   11999.0  \n",
       "7           Free Dos          NaN    6499.0  \n",
       "...              ...          ...       ...  \n",
       "1170        Free Dos  2560 x 1600  429999.0  \n",
       "1171         Windows  1920 x 1080    8999.0  \n",
       "1173        Free Dos  1920 x 1080   28999.0  \n",
       "1174        Free Dos  1920 x 1080   10179.0  \n",
       "1175        Free Dos  4096 x 2160   24099.0  \n",
       "\n",
       "[982 rows x 7 columns]"
      ]
     },
     "execution_count": 73,
     "metadata": {},
     "output_type": "execute_result"
    }
   ],
   "source": [
    "data"
   ]
  },
  {
   "cell_type": "code",
   "execution_count": 74,
   "id": "da41d166",
   "metadata": {},
   "outputs": [
    {
     "data": {
      "image/png": "[encoded data removed]",
      "text/plain": [
       "<Figure size 1600x1600 with 1 Axes>"
      ]
     },
     "metadata": {},
     "output_type": "display_data"
    }
   ],
   "source": [
    "plt.figure(figsize=(16,16))\n",
    "plt.subplot(2,1,1)\n",
    "sns.countplot(x='SSD_Kapasitesi', data=data, order=data['SSD_Kapasitesi'].value_counts().index)\n",
    "plt.xticks(rotation=90)\n",
    "plt.show()\n"
   ]
  },
  {
   "cell_type": "code",
   "execution_count": 75,
   "id": "d5e1d29b",
   "metadata": {},
   "outputs": [],
   "source": [
    "data.to_excel(\"C:\\\\Users\\\\Gözde\\\\Desktop\\\\data\\\\ml_onisleme.xlsx\", index=False)"
   ]
  },
  {
   "cell_type": "code",
   "execution_count": null,
   "id": "bd55b20a",
   "metadata": {},
   "outputs": [],
   "source": []
  }
 ],
 "metadata": {
  "kernelspec": {
   "display_name": "Python 3 (ipykernel)",
   "language": "python",
   "name": "python3"
  },
  "language_info": {
   "codemirror_mode": {
    "name": "ipython",
    "version": 3
   },
   "file_extension": ".py",
   "mimetype": "text/x-python",
   "name": "python",
   "nbconvert_exporter": "python",
   "pygments_lexer": "ipython3",
   "version": "3.11.5"
  }
 },
 "nbformat": 4,
 "nbformat_minor": 5
}
